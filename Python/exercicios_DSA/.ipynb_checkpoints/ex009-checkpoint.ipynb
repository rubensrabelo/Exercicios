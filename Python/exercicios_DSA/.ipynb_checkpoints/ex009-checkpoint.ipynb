{
 "cells": [
  {
   "cell_type": "code",
   "execution_count": 3,
   "metadata": {},
   "outputs": [
    {
     "name": "stdout",
     "output_type": "stream",
     "text": [
      "Rubens\n",
      "('Engenheiro', 10)\n",
      "{'Engenheiro': 10, 'Resíduos': 'Matéria Preferida'}\n",
      "24.2\n"
     ]
    }
   ],
   "source": [
    "variados = ['Rubens', ('Engenheiro', 10), {'Engenheiro': 10, 'Resíduos': 'Matéria Preferida'}, 24.2]\n",
    "\n",
    "print(variados[0])\n",
    "print(variados[1])\n",
    "print(variados[2])\n",
    "print(variados[3])"
   ]
  }
 ],
 "metadata": {
  "kernelspec": {
   "display_name": "Python 3",
   "language": "python",
   "name": "python3"
  },
  "language_info": {
   "codemirror_mode": {
    "name": "ipython",
    "version": 3
   },
   "file_extension": ".py",
   "mimetype": "text/x-python",
   "name": "python",
   "nbconvert_exporter": "python",
   "pygments_lexer": "ipython3",
   "version": "3.8.5"
  }
 },
 "nbformat": 4,
 "nbformat_minor": 4
}
