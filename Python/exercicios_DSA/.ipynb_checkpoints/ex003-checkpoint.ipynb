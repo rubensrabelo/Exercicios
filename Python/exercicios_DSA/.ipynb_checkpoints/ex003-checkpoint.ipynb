{
 "cells": [
  {
   "cell_type": "code",
   "execution_count": 4,
   "metadata": {},
   "outputs": [
    {
     "name": "stdout",
     "output_type": "stream",
     "text": [
      "Digite seu nome: Rubens\n",
      "Digite seu sobrenome: Rabêlo\n",
      "Seja bem-vindo, Rubens Rabêlo!\n"
     ]
    }
   ],
   "source": [
    "nome = str(input('Digite seu nome: '))\n",
    "sobrenome = str(input('Digite seu sobrenome: '))\n",
    "completo = nome+ ' ' + sobrenome\n",
    "print(f'Seja bem-vindo, {completo}!')"
   ]
  }
 ],
 "metadata": {
  "kernelspec": {
   "display_name": "Python 3",
   "language": "python",
   "name": "python3"
  },
  "language_info": {
   "codemirror_mode": {
    "name": "ipython",
    "version": 3
   },
   "file_extension": ".py",
   "mimetype": "text/x-python",
   "name": "python",
   "nbconvert_exporter": "python",
   "pygments_lexer": "ipython3",
   "version": "3.8.5"
  }
 },
 "nbformat": 4,
 "nbformat_minor": 4
}
