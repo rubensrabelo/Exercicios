{
 "cells": [
  {
   "cell_type": "code",
   "execution_count": 23,
   "metadata": {},
   "outputs": [
    {
     "name": "stdout",
     "output_type": "stream",
     "text": [
      "==============CALCULADORA===============\n",
      "Escolha sua opção: \n",
      "[1] SOMA\n",
      "[2] SUBTRAÇÃO\n",
      "[3] MULTIPLICAÇÃO\n",
      "[4] DIVISÃO\n",
      "Digite sua opção: 1\n",
      "Digite seu número: 1\n",
      "1 + 1 = 2\n",
      "1 + 2 = 3\n",
      "1 + 3 = 4\n",
      "1 + 4 = 5\n",
      "1 + 5 = 6\n",
      "1 + 6 = 7\n",
      "1 + 7 = 8\n",
      "1 + 8 = 9\n",
      "1 + 9 = 10\n",
      "1 + 10 = 11\n"
     ]
    }
   ],
   "source": [
    "print('{:=^40}'.format('CALCULADORA'))\n",
    "print('Escolha sua opção: ')\n",
    "print('[1] SOMA')\n",
    "print('[2] SUBTRAÇÃO')\n",
    "print('[3] MULTIPLICAÇÃO')\n",
    "print('[4] DIVISÃO')\n",
    "opcao = int(input('Digite sua opção: '))\n",
    "num = int(input('Digite seu número: '))\n",
    "\n",
    "if opcao == 1:\n",
    "    for c in range(1, 11):\n",
    "        operacao = num + c\n",
    "        print(f'{num} + {c} = {operacao}')\n",
    "elif opcao == 2:\n",
    "    for c in range(1, 11):\n",
    "        operacao = num - c\n",
    "        print(f'{num} - {c} = {operacao}')\n",
    "elif opcao == 3:\n",
    "    for c in range(1, 11):\n",
    "        operacao = num * c\n",
    "        print(f'{num} * {c} = {operacao}')\n",
    "else:\n",
    "    for c in range(1, 11):\n",
    "        operacao = num / c4\n",
    "        print(f'{num} / {c} = {operacao}')"
   ]
  }
 ],
 "metadata": {
  "kernelspec": {
   "display_name": "Python 3",
   "language": "python",
   "name": "python3"
  },
  "language_info": {
   "codemirror_mode": {
    "name": "ipython",
    "version": 3
   },
   "file_extension": ".py",
   "mimetype": "text/x-python",
   "name": "python",
   "nbconvert_exporter": "python",
   "pygments_lexer": "ipython3",
   "version": "3.8.5"
  }
 },
 "nbformat": 4,
 "nbformat_minor": 4
}
