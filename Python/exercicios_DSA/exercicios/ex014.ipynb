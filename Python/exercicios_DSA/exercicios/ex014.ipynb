{
 "cells": [
  {
   "cell_type": "code",
   "execution_count": 1,
   "metadata": {},
   "outputs": [
    {
     "name": "stdout",
     "output_type": "stream",
     "text": [
      "O 100 é um número par.\n",
      "O 102 é um número par.\n",
      "O 104 é um número par.\n",
      "O 106 é um número par.\n",
      "O 108 é um número par.\n",
      "O 110 é um número par.\n",
      "O 112 é um número par.\n",
      "O 114 é um número par.\n",
      "O 116 é um número par.\n",
      "O 118 é um número par.\n",
      "O 120 é um número par.\n",
      "O 122 é um número par.\n",
      "O 124 é um número par.\n",
      "O 126 é um número par.\n",
      "O 128 é um número par.\n",
      "O 130 é um número par.\n",
      "O 132 é um número par.\n",
      "O 134 é um número par.\n",
      "O 136 é um número par.\n",
      "O 138 é um número par.\n",
      "O 140 é um número par.\n",
      "O 142 é um número par.\n",
      "O 144 é um número par.\n",
      "O 146 é um número par.\n",
      "O 148 é um número par.\n",
      "O 150 é um número par.\n"
     ]
    }
   ],
   "source": [
    "for i in range(100, 151):\n",
    "    if i % 2 == 0:"
   ]
  }
 ],
 "metadata": {
  "kernelspec": {
   "display_name": "Python 3",
   "language": "python",
   "name": "python3"
  },
  "language_info": {
   "codemirror_mode": {
    "name": "ipython",
    "version": 3
   },
   "file_extension": ".py",
   "mimetype": "text/x-python",
   "name": "python",
   "nbconvert_exporter": "python",
   "pygments_lexer": "ipython3",
   "version": "3.8.5"
  }
 },
 "nbformat": 4,
 "nbformat_minor": 4
}
