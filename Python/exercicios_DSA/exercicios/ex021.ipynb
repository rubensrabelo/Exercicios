{
 "cells": [
  {
   "cell_type": "code",
   "execution_count": 13,
   "metadata": {},
   "outputs": [
    {
     "name": "stdout",
     "output_type": "stream",
     "text": [
      "O número 2 é par!\n",
      "O número 4 é par!\n",
      "O número 6 é par!\n",
      "O número 8 é par!\n",
      "O número 10 é par!\n",
      "O número 12 é par!\n",
      "O número 14 é par!\n",
      "O número 16 é par!\n",
      "O número 18 é par!\n",
      "O número 20 é par!\n"
     ]
    }
   ],
   "source": [
    "def par(num):\n",
    "    if num % 2 == 0:\n",
    "        print(f'O número {num} é par!')\n",
    "for i in range(1, 21):\n",
    "    num = par(i)"
   ]
  }
 ],
 "metadata": {
  "kernelspec": {
   "display_name": "Python 3",
   "language": "python",
   "name": "python3"
  },
  "language_info": {
   "codemirror_mode": {
    "name": "ipython",
    "version": 3
   },
   "file_extension": ".py",
   "mimetype": "text/x-python",
   "name": "python",
   "nbconvert_exporter": "python",
   "pygments_lexer": "ipython3",
   "version": "3.8.5"
  }
 },
 "nbformat": 4,
 "nbformat_minor": 4
}
