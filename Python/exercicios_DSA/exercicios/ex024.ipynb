{
 "cells": [
  {
   "cell_type": "code",
   "execution_count": 7,
   "metadata": {},
   "outputs": [
    {
     "name": "stdout",
     "output_type": "stream",
     "text": [
      "[1, 2, 3, 4]\n",
      "[2]\n"
     ]
    }
   ],
   "source": [
    "lista1 = []\n",
    "lista2 = [1, 2, 3, 4]\n",
    "\n",
    "def add(e):\n",
    "    lista1.append(e)\n",
    "    return lista1\n",
    "def lista(lista2):\n",
    "    print(lista2)\n",
    "\n",
    "lista1 = add(2)\n",
    "lista(lista2)\n",
    "print(lista1)"
   ]
  }
 ],
 "metadata": {
  "kernelspec": {
   "display_name": "Python 3",
   "language": "python",
   "name": "python3"
  },
  "language_info": {
   "codemirror_mode": {
    "name": "ipython",
    "version": 3
   },
   "file_extension": ".py",
   "mimetype": "text/x-python",
   "name": "python",
   "nbconvert_exporter": "python",
   "pygments_lexer": "ipython3",
   "version": "3.8.5"
  }
 },
 "nbformat": 4,
 "nbformat_minor": 4
}
