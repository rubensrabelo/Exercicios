{
 "cells": [
  {
   "cell_type": "code",
   "execution_count": 2,
   "metadata": {},
   "outputs": [
    {
     "name": "stdout",
     "output_type": "stream",
     "text": [
      "10\n",
      "20\n",
      "5\n",
      "10\n"
     ]
    }
   ],
   "source": [
    "dic_valores = {\n",
    "    'Acerola': 10,\n",
    "    'Banana': 20,\n",
    "    'Laranja': 5,\n",
    "    'Limao': 10\n",
    "}\n",
    "\n",
    "print(dic_valores['Acerola'])\n",
    "print(dic_valores['Banana'])\n",
    "print(dic_valores['Laranja'])\n",
    "print(dic_valores['Limao'])"
   ]
  }
 ],
 "metadata": {
  "kernelspec": {
   "display_name": "Python 3",
   "language": "python",
   "name": "python3"
  },
  "language_info": {
   "codemirror_mode": {
    "name": "ipython",
    "version": 3
   },
   "file_extension": ".py",
   "mimetype": "text/x-python",
   "name": "python",
   "nbconvert_exporter": "python",
   "pygments_lexer": "ipython3",
   "version": "3.8.5"
  }
 },
 "nbformat": 4,
 "nbformat_minor": 4
}
