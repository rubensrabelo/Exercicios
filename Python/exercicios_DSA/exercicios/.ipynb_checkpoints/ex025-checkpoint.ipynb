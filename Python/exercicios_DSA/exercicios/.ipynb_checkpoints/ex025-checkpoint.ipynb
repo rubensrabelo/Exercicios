{
 "cells": [
  {
   "cell_type": "code",
   "execution_count": 5,
   "metadata": {},
   "outputs": [
    {
     "name": "stdout",
     "output_type": "stream",
     "text": [
      "Primeiro valor: 3\n",
      "Segundo valor: 2\n",
      "5.0\n"
     ]
    }
   ],
   "source": [
    "num1 = float(input('Primeiro valor: '))\n",
    "num2 = float(input('Segundo valor: '))\n",
    "\n",
    "def s(n1, n2):\n",
    "    soma = n1 + n2\n",
    "    return soma\n",
    "\n",
    "soma = s(num1, num2)\n",
    "print(soma)"
   ]
  }
 ],
 "metadata": {
  "kernelspec": {
   "display_name": "Python 3",
   "language": "python",
   "name": "python3"
  },
  "language_info": {
   "codemirror_mode": {
    "name": "ipython",
    "version": 3
   },
   "file_extension": ".py",
   "mimetype": "text/x-python",
   "name": "python",
   "nbconvert_exporter": "python",
   "pygments_lexer": "ipython3",
   "version": "3.8.5"
  }
 },
 "nbformat": 4,
 "nbformat_minor": 4
}
