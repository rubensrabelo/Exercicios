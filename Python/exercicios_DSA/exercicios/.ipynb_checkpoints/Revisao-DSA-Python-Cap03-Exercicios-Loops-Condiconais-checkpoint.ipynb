{
 "cells": [
  {
   "cell_type": "code",
   "execution_count": 6,
   "metadata": {},
   "outputs": [
    {
     "name": "stdout",
     "output_type": "stream",
     "text": [
      "Qual o dia da semana? segunda\n",
      "Você precisa trabalhar!\n"
     ]
    }
   ],
   "source": [
    "#Questão 01\n",
    "\n",
    "dia = str(input('Qual o dia da semana? '))\n",
    "\n",
    "dia = dia.upper()\n",
    "\n",
    "if dia == 'SÁBADO' or dia == 'DOMINGO':\n",
    "    print('Hoje é dia de descanso!')\n",
    "else:\n",
    "    print('Você precisa trabalhar!')"
   ]
  },
  {
   "cell_type": "code",
   "execution_count": 8,
   "metadata": {},
   "outputs": [
    {
     "name": "stdout",
     "output_type": "stream",
     "text": [
      "Sim, a fruta morango está na lista!\n"
     ]
    }
   ],
   "source": [
    "#Questão 02\n",
    "\n",
    "frutas_list = ['Morango', 'Limão', 'Laranja', 'Maracujá', 'Caju']\n",
    "\n",
    "if 'Morango' in frutas_list:\n",
    "    print('Sim, a fruta morango está na lista!')\n",
    "else:\n",
    "    print('Não, a fruta morango não está na lista!')"
   ]
  },
  {
   "cell_type": "code",
   "execution_count": 11,
   "metadata": {},
   "outputs": [
    {
     "name": "stdout",
     "output_type": "stream",
     "text": [
      "[1, 2, 3, 4, 1, 2, 3, 4]\n"
     ]
    }
   ],
   "source": [
    "#Questão 03\n",
    "\n",
    "num_tupla = (1, 2, 3, 4)\n",
    "\n",
    "num_list = list(num_tupla) * 2\n",
    "\n",
    "print(num_list)"
   ]
  },
  {
   "cell_type": "code",
   "execution_count": 16,
   "metadata": {},
   "outputs": [
    {
     "name": "stdout",
     "output_type": "stream",
     "text": [
      "100 --> 102 --> 104 --> 106 --> 108 --> 110 --> 112 --> 114 --> 116 --> 118 --> 120 --> 122 --> 124 --> 126 --> 128 --> 130 --> 132 --> 134 --> 136 --> 138 --> 140 --> 142 --> 144 --> 146 --> 148 --> FIM\n"
     ]
    }
   ],
   "source": [
    "#Questão 04\n",
    "\n",
    "for i in range(100, 150):\n",
    "    if i % 2 == 0:\n",
    "        print(i,'-->', end=' ')\n",
    "print('FIM')"
   ]
  },
  {
   "cell_type": "code",
   "execution_count": 18,
   "metadata": {},
   "outputs": [
    {
     "name": "stdout",
     "output_type": "stream",
     "text": [
      "40 --> 39 --> 38 --> 37 --> 36 --> FIM\n"
     ]
    }
   ],
   "source": [
    "#Questão 05\n",
    "\n",
    "temperatura = 40\n",
    "\n",
    "while temperatura > 35:\n",
    "    print(temperatura, '-->', end=' ')\n",
    "    temperatura -= 1\n",
    "print('FIM')"
   ]
  },
  {
   "cell_type": "code",
   "execution_count": 19,
   "metadata": {},
   "outputs": [
    {
     "name": "stdout",
     "output_type": "stream",
     "text": [
      "0 --> 1 --> 2 --> 3 --> 4 --> 5 --> 6 --> 7 --> 8 --> 9 --> 10 --> 11 --> 12 --> 13 --> 14 --> 15 --> 16 --> 17 --> 18 --> 19 --> 20 --> 21 --> 22 --> 23 --> FIM\n"
     ]
    }
   ],
   "source": [
    "#Questão 06\n",
    "\n",
    "cont = 0\n",
    "\n",
    "while cont < 100:\n",
    "    print(cont, '-->', end=' ')\n",
    "    \n",
    "    if cont == 23:\n",
    "        break\n",
    "    \n",
    "    cont += 1\n",
    "\n",
    "print('FIM')"
   ]
  },
  {
   "cell_type": "code",
   "execution_count": 20,
   "metadata": {},
   "outputs": [
    {
     "name": "stdout",
     "output_type": "stream",
     "text": [
      "[4, 6, 8, 10, 12, 14, 16, 18, 20]\n"
     ]
    }
   ],
   "source": [
    "#Questão 07\n",
    "\n",
    "parNum_list = []\n",
    "\n",
    "num = 4\n",
    "\n",
    "while num <= 20:\n",
    "    \n",
    "    if num % 2 == 0:\n",
    "        parNum_list.append(num)\n",
    "    \n",
    "    num += 1\n",
    "    \n",
    "print(parNum_list)"
   ]
  },
  {
   "cell_type": "code",
   "execution_count": 21,
   "metadata": {},
   "outputs": [
    {
     "name": "stdout",
     "output_type": "stream",
     "text": [
      "[5, 7, 9, 11, 13, 15, 17, 19, 21, 23, 25, 27, 29, 31, 33, 35, 37, 39, 41, 43]\n"
     ]
    }
   ],
   "source": [
    "#Questão 08\n",
    "\n",
    "nums = range(5, 45, 2)\n",
    "\n",
    "num_list = list(nums)\n",
    "\n",
    "print(num_list)"
   ]
  },
  {
   "cell_type": "code",
   "execution_count": 24,
   "metadata": {},
   "outputs": [
    {
     "name": "stdout",
     "output_type": "stream",
     "text": [
      "Qual a temperatura? 55\n",
      "Vista roupas leves.\n"
     ]
    }
   ],
   "source": [
    "#Questão 09\n",
    "\n",
    "temperatura = float(input('Qual a temperatura? '))\n",
    "\n",
    "if temperatura > 30:\n",
    "    print('Vista roupas leves.')\n",
    "else:\n",
    "    print('Busque seus casacos.')"
   ]
  },
  {
   "cell_type": "code",
   "execution_count": 26,
   "metadata": {},
   "outputs": [
    {
     "name": "stdout",
     "output_type": "stream",
     "text": [
      "A letra r aparece 6 vezes!\n"
     ]
    }
   ],
   "source": [
    "#Questão 10\n",
    "\n",
    "frase = \"É melhor, muito melhor, contentar-se com a realidade; se ela não é tão brilhante como os sonhos, tem pelo menos a vantagem de existir.\"\n",
    "\n",
    "num = frase.count('r')\n",
    "\n",
    "print(f'A letra r aparece {num} vezes!')"
   ]
  }
 ],
 "metadata": {
  "kernelspec": {
   "display_name": "Python 3",
   "language": "python",
   "name": "python3"
  },
  "language_info": {
   "codemirror_mode": {
    "name": "ipython",
    "version": 3
   },
   "file_extension": ".py",
   "mimetype": "text/x-python",
   "name": "python",
   "nbconvert_exporter": "python",
   "pygments_lexer": "ipython3",
   "version": "3.8.5"
  }
 },
 "nbformat": 4,
 "nbformat_minor": 4
}
