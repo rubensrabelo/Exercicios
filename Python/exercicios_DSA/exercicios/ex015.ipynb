{
 "cells": [
  {
   "cell_type": "code",
   "execution_count": 1,
   "metadata": {},
   "outputs": [
    {
     "name": "stdout",
     "output_type": "stream",
     "text": [
      "A temperatura é de 40.\n",
      "A temperatura é de 39.\n",
      "A temperatura é de 38.\n",
      "A temperatura é de 37.\n",
      "A temperatura é de 36.\n"
     ]
    }
   ],
   "source": [
    "temp = 40\n",
    "\n",
    "while temp > 35:\n",
    "    print(f'A temperatura é de {temp}.')\n",
    "    temp = temp - 1"
   ]
  }
 ],
 "metadata": {
  "kernelspec": {
   "display_name": "Python 3",
   "language": "python",
   "name": "python3"
  },
  "language_info": {
   "codemirror_mode": {
    "name": "ipython",
    "version": 3
   },
   "file_extension": ".py",
   "mimetype": "text/x-python",
   "name": "python",
   "nbconvert_exporter": "python",
   "pygments_lexer": "ipython3",
   "version": "3.8.5"
  }
 },
 "nbformat": 4,
 "nbformat_minor": 4
}
