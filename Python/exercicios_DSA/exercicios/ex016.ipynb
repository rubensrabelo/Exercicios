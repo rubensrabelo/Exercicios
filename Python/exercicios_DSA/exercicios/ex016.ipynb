{
 "cells": [
  {
   "cell_type": "code",
   "execution_count": 3,
   "metadata": {},
   "outputs": [
    {
     "name": "stdout",
     "output_type": "stream",
     "text": [
      "O contador está no número 0.\n",
      "O contador está no número 1.\n",
      "O contador está no número 2.\n",
      "O contador está no número 3.\n",
      "O contador está no número 4.\n",
      "O contador está no número 5.\n",
      "O contador está no número 6.\n",
      "O contador está no número 7.\n",
      "O contador está no número 8.\n",
      "O contador está no número 9.\n",
      "O contador está no número 10.\n",
      "O contador está no número 11.\n",
      "O contador está no número 12.\n",
      "O contador está no número 13.\n",
      "O contador está no número 14.\n",
      "O contador está no número 15.\n",
      "O contador está no número 16.\n",
      "O contador está no número 17.\n",
      "O contador está no número 18.\n",
      "O contador está no número 19.\n",
      "O contador está no número 20.\n",
      "O contador está no número 21.\n",
      "O contador está no número 22.\n",
      "O contador está no número 23.\n"
     ]
    }
   ],
   "source": [
    "cont = 0\n",
    "\n",
    "while cont < 100:\n",
    "    print(f'O contador está no número {cont}.')\n",
    "    if cont == 23:\n",
    "        break\n",
    "    cont = cont + 1"
   ]
  }
 ],
 "metadata": {
  "kernelspec": {
   "display_name": "Python 3",
   "language": "python",
   "name": "python3"
  },
  "language_info": {
   "codemirror_mode": {
    "name": "ipython",
    "version": 3
   },
   "file_extension": ".py",
   "mimetype": "text/x-python",
   "name": "python",
   "nbconvert_exporter": "python",
   "pygments_lexer": "ipython3",
   "version": "3.8.5"
  }
 },
 "nbformat": 4,
 "nbformat_minor": 4
}
