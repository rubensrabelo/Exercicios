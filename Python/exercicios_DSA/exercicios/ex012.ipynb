{
 "cells": [
  {
   "cell_type": "code",
   "execution_count": 7,
   "metadata": {},
   "outputs": [
    {
     "name": "stdout",
     "output_type": "stream",
     "text": [
      "Morango não faz parte da lista.\n"
     ]
    }
   ],
   "source": [
    "lista_frutas = ['Banana', 'Limão', 'Laranja', 'Goiaba', 'Acerola']\n",
    "\n",
    "if 'Morango' in lista_frutas:\n",
    "    print('Morango faz parte da lista.')\n",
    "else:\n",
    "    print('Morango não faz parte da lista.')"
   ]
  }
 ],
 "metadata": {
  "kernelspec": {
   "display_name": "Python 3",
   "language": "python",
   "name": "python3"
  },
  "language_info": {
   "codemirror_mode": {
    "name": "ipython",
    "version": 3
   },
   "file_extension": ".py",
   "mimetype": "text/x-python",
   "name": "python",
   "nbconvert_exporter": "python",
   "pygments_lexer": "ipython3",
   "version": "3.8.5"
  }
 },
 "nbformat": 4,
 "nbformat_minor": 4
}
