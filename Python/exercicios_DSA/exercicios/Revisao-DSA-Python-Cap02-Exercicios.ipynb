{
 "cells": [
  {
   "cell_type": "code",
   "execution_count": 3,
   "metadata": {},
   "outputs": [
    {
     "name": "stdout",
     "output_type": "stream",
     "text": [
      "Este é o número 1!\n",
      "\n",
      "Este é o número 2!\n",
      "\n",
      "Este é o número 3!\n",
      "\n",
      "Este é o número 4!\n",
      "\n",
      "Este é o número 5!\n",
      "\n",
      "Este é o número 6!\n",
      "\n",
      "Este é o número 7!\n",
      "\n",
      "Este é o número 8!\n",
      "\n",
      "Este é o número 9!\n",
      "\n",
      "Este é o número 10!\n",
      "\n"
     ]
    }
   ],
   "source": [
    "#Questão 01\n",
    "\n",
    "num_lista = [1, 2, 3, 4, 5, 6, 7, 8, 9, 10]\n",
    "cont = 0\n",
    "\n",
    "for i in num_lista:\n",
    "    print(f\"Este é o número {num_lista[cont]}!\\n\")\n",
    "    \n",
    "    cont+= 1"
   ]
  },
  {
   "cell_type": "code",
   "execution_count": 4,
   "metadata": {},
   "outputs": [
    {
     "name": "stdout",
     "output_type": "stream",
     "text": [
      "O 1º é um(a) Mochila!\n",
      "O 2º é um(a) Caderno!\n",
      "O 3º é um(a) Lápiz!\n",
      "O 4º é um(a) Caneta!\n",
      "O 5º é um(a) Borracha!\n"
     ]
    }
   ],
   "source": [
    "#Questão 02\n",
    "\n",
    "obj_lista = [\"Mochila\", \"Caderno\", \"Lápiz\", \"Caneta\", \"Borracha\"]\n",
    "cont = 0\n",
    "\n",
    "for i in obj_lista:\n",
    "    print(f\"O {cont+1}º é um(a) {obj_lista[cont]}!\")\n",
    "    \n",
    "    cont+= 1"
   ]
  },
  {
   "cell_type": "code",
   "execution_count": 5,
   "metadata": {},
   "outputs": [
    {
     "name": "stdout",
     "output_type": "stream",
     "text": [
      "Olá Rubens Rabêlo Soares!\n"
     ]
    }
   ],
   "source": [
    "#Questão 03\n",
    "\n",
    "nome = \"Rubens\"\n",
    "sobrenome = \"Rabêlo Soares\"\n",
    "nomeCompleto = nome + \" \" + sobrenome\n",
    "\n",
    "print(f\"Olá {nomeCompleto}!\")"
   ]
  },
  {
   "cell_type": "code",
   "execution_count": 6,
   "metadata": {},
   "outputs": [
    {
     "name": "stdout",
     "output_type": "stream",
     "text": [
      "A quantidade de vezes que o número 4 aparece é de 3!\n"
     ]
    }
   ],
   "source": [
    "#Questão 04\n",
    "\n",
    "seq_tupla = (1, 2, 2, 3, 4, 4, 4, 5)\n",
    "\n",
    "print(f\"A quantidade de vezes que o número 4 aparece é de {seq_tupla.count(4)}!\")"
   ]
  },
  {
   "cell_type": "code",
   "execution_count": 7,
   "metadata": {},
   "outputs": [
    {
     "name": "stdout",
     "output_type": "stream",
     "text": [
      "{}\n"
     ]
    }
   ],
   "source": [
    "#Questão 05\n",
    "\n",
    "vazio_dic = {}\n",
    "\n",
    "print(vazio_dic)"
   ]
  },
  {
   "cell_type": "code",
   "execution_count": 13,
   "metadata": {},
   "outputs": [
    {
     "name": "stdout",
     "output_type": "stream",
     "text": [
      "{'Nome': 'Rubens', 'Idade': 24, 'Profissão': 'Estudante'}\n"
     ]
    }
   ],
   "source": [
    "#Questão 06\n",
    "\n",
    "valor_dic = {\"Nome\": \"Rubens\", \"Idade\": 24, \"Profissão\": \"Estudante\"}\n",
    "\n",
    "print(valor_dic)"
   ]
  },
  {
   "cell_type": "code",
   "execution_count": 14,
   "metadata": {},
   "outputs": [
    {
     "name": "stdout",
     "output_type": "stream",
     "text": [
      "{'Nome': 'Rubens', 'Idade': 24, 'Profissão': 'Estudante', 'Cidade Atual': 'Fortaleza'}\n"
     ]
    }
   ],
   "source": [
    "#Questão 07\n",
    "\n",
    "valor_dic[\"Cidade Atual\"] = \"Fortaleza\"\n",
    "\n",
    "print(valor_dic)"
   ]
  },
  {
   "cell_type": "code",
   "execution_count": 15,
   "metadata": {},
   "outputs": [
    {
     "name": "stdout",
     "output_type": "stream",
     "text": [
      "{'Lista': [1, 2], 'Nome': 'Rubens', 'Idade': 24}\n"
     ]
    }
   ],
   "source": [
    "#Questão 08\n",
    "\n",
    "al_dic = {\"Lista\": [1, 2], \"Nome\": \"Rubens\", \"Idade\": 24}\n",
    "\n",
    "print(al_dic)"
   ]
  },
  {
   "cell_type": "code",
   "execution_count": 17,
   "metadata": {},
   "outputs": [
    {
     "name": "stdout",
     "output_type": "stream",
     "text": [
      "{'Lista': [1, 2], 'Nome': 'Rubens', 'Idade': 24}\n"
     ]
    }
   ],
   "source": [
    "#Questão 09\n",
    "\n",
    "al_lista = [\"Rubens\", (1, 2), {\"Número\": 1, \"Clubre\": \"Palmeiras\"}, 1.5]\n",
    "\n",
    "print(al_dic)"
   ]
  },
  {
   "cell_type": "code",
   "execution_count": 18,
   "metadata": {},
   "outputs": [
    {
     "name": "stdout",
     "output_type": "stream",
     "text": [
      "ientista de Dados\n"
     ]
    }
   ],
   "source": [
    "#Questão 10\n",
    "\n",
    "frase = 'Cientista de Dados é o profissional mais sexy do século XXI'\n",
    "\n",
    "print(frase[1:18])"
   ]
  }
 ],
 "metadata": {
  "kernelspec": {
   "display_name": "Python 3",
   "language": "python",
   "name": "python3"
  },
  "language_info": {
   "codemirror_mode": {
    "name": "ipython",
    "version": 3
   },
   "file_extension": ".py",
   "mimetype": "text/x-python",
   "name": "python",
   "nbconvert_exporter": "python",
   "pygments_lexer": "ipython3",
   "version": "3.8.5"
  }
 },
 "nbformat": 4,
 "nbformat_minor": 4
}
