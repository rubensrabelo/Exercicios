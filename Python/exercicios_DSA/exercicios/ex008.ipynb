{
 "cells": [
  {
   "cell_type": "code",
   "execution_count": 1,
   "metadata": {},
   "outputs": [
    {
     "name": "stdout",
     "output_type": "stream",
     "text": [
      "['Caderno', 'Caneta']\n",
      "1\n",
      "[1, 2]\n"
     ]
    }
   ],
   "source": [
    "dic_valores = {\n",
    "    'Mochila': ['Caderno', 'Caneta'],\n",
    "    'Caderno': 1,\n",
    "    'Cantas': [1, 2]\n",
    "}\n",
    "\n",
    "print(dic_valores['Mochila'])\n",
    "print(dic_valores['Caderno'])\n",
    "print(dic_valores['Cantas'])"
   ]
  }
 ],
 "metadata": {
  "kernelspec": {
   "display_name": "Python 3",
   "language": "python",
   "name": "python3"
  },
  "language_info": {
   "codemirror_mode": {
    "name": "ipython",
    "version": 3
   },
   "file_extension": ".py",
   "mimetype": "text/x-python",
   "name": "python",
   "nbconvert_exporter": "python",
   "pygments_lexer": "ipython3",
   "version": "3.8.5"
  }
 },
 "nbformat": 4,
 "nbformat_minor": 4
}
