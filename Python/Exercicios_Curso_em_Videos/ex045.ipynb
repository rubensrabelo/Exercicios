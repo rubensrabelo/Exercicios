{
 "cells": [
  {
   "cell_type": "code",
   "execution_count": 6,
   "metadata": {},
   "outputs": [
    {
     "name": "stdout",
     "output_type": "stream",
     "text": [
      "================JOKENPO=================\n",
      "Escolha sua opção: \n",
      "[1] PEDRA\n",
      "[2] PAPEL\n",
      "[3] TESOURA\n",
      "Digite sua opção: 2\n",
      "JO\n",
      "KEN\n",
      "PO!!!\n",
      "-=-=-=-=-=-=-=-=-=-=-=-=-=-=-=\n",
      "O jogador escolheu papel!\n",
      "O computador escolheu papel!\n",
      "-=-=-=-=-=-=-=-=-=-=-=-=-=-=-=\n",
      "EMPATE! Joguem novamente!\n"
     ]
    }
   ],
   "source": [
    "from random import choice\n",
    "from time import sleep\n",
    "\n",
    "print('{:=^40}'.format('JOKENPO'))\n",
    "print('Escolha sua opção: ')\n",
    "print('[1] PEDRA')\n",
    "print('[2] PAPEL')\n",
    "print('[3] TESOURA')\n",
    "opcao = int(input('Digite sua opção: '))\n",
    "\n",
    "sleep(1)\n",
    "print('JO')\n",
    "sleep(1)\n",
    "print('KEN')\n",
    "sleep(1)\n",
    "print('PO!!!')\n",
    "sleep(1)\n",
    "\n",
    "listaPC = ['Pedra', 'Papel', 'Tesoura']\n",
    "pc = choice(listaPC)\n",
    "\n",
    "if opcao == 1:\n",
    "    print('-='*15)\n",
    "    print('O jogador escolheu pedra!')\n",
    "    if pc == 'Pedra':\n",
    "        print('O computador escolheu pedra!')\n",
    "        print('-='*15)\n",
    "        print('EMPATE! Joguem novamente!')\n",
    "    elif pc == 'Papel':\n",
    "        print('O computador escolheu papel!')\n",
    "        print('-='*15)\n",
    "        print('O computador GANHOU!')\n",
    "    else:\n",
    "        print('O computador escolheu tesoura!')\n",
    "        print('-='*15)\n",
    "        print('O jogador GANHOU!')\n",
    "elif opcao == 2:\n",
    "    print('-='*15)\n",
    "    print('O jogador escolheu papel!')\n",
    "    if pc == 'Pedra':\n",
    "        print('O computador escolheu pedra!')\n",
    "        print('-='*15)\n",
    "        print('O jogador GANHOU!')\n",
    "    elif pc == 'Papel':\n",
    "        print('O computador escolheu papel!')\n",
    "        print('-='*15)\n",
    "        print('EMPATE! Joguem novamente!')\n",
    "    else:\n",
    "        print('O computador escolheu tesoura!')\n",
    "        print('-='*15)\n",
    "        print('O computador GANHOU')\n",
    "elif opcao == 3:\n",
    "    print('-='*15)\n",
    "    print('O jogador escolheu tesoura!')\n",
    "    if pc == 'Pedra':\n",
    "        print('O computador escolheu pedra!')\n",
    "        print('-='*15)\n",
    "        print('O computado GANHOU!')\n",
    "    elif pc == 'Papel':\n",
    "        print('O computador escolheu papel!')\n",
    "        print('-='*15)\n",
    "        print('O jogador GANHOU!')\n",
    "    else:\n",
    "        print('O computador escolheu tesoura!')\n",
    "        print('-='*15)\n",
    "        print('EMPATE! Joguem novamente!')\n",
    "else:\n",
    "    print('Essa opção não é válida, escolha outra por favor!')"
   ]
  },
  {
   "cell_type": "code",
   "execution_count": null,
   "metadata": {},
   "outputs": [],
   "source": []
  }
 ],
 "metadata": {
  "kernelspec": {
   "display_name": "Python 3",
   "language": "python",
   "name": "python3"
  },
  "language_info": {
   "codemirror_mode": {
    "name": "ipython",
    "version": 3
   },
   "file_extension": ".py",
   "mimetype": "text/x-python",
   "name": "python",
   "nbconvert_exporter": "python",
   "pygments_lexer": "ipython3",
   "version": "3.8.5"
  }
 },
 "nbformat": 4,
 "nbformat_minor": 4
}
