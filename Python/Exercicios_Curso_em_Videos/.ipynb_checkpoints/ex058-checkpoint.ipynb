{
 "cells": [
  {
   "cell_type": "code",
   "execution_count": 8,
   "metadata": {},
   "outputs": [
    {
     "name": "stdout",
     "output_type": "stream",
     "text": [
      "Olá, sou seu computador...\n",
      "Acabei de pensar em um número de 1 a 10.\n",
      "Será que você consegue adivinhar qual é?\n",
      "\n",
      "Qual o seu palpite? 4\n",
      "Mais... Tente mais uma vez!\n",
      "Qual o seu palpite? 7\n",
      "Mais... Tente mais uma vez!\n",
      "Qual o seu palpite? 10\n",
      "Menos... Tente mais uma vez!\n",
      "Qual o seu palpite? 9\n",
      "\n",
      "Parabéns! Você acertou na 3ª tentativa.\n"
     ]
    }
   ],
   "source": [
    "import random\n",
    "\n",
    "print('Olá, sou seu computador...')\n",
    "print('Acabei de pensar em um número de 1 a 10.')\n",
    "print('Será que você consegue adivinhar qual é?\\n')\n",
    "\n",
    "num = int(input('Qual o seu palpite? '))\n",
    "numpc = random.randint(1, 10)\n",
    "cont = 0\n",
    "\n",
    "while num != numpc:\n",
    "    if num > numpc:\n",
    "        print('Menos... Tente mais uma vez!')\n",
    "        num = int(input('Qual o seu palpite? '))\n",
    "    else:\n",
    "        print('Mais... Tente mais uma vez!')\n",
    "        num = int(input('Qual o seu palpite? '))\n",
    "    cont += 1\n",
    "\n",
    "print(f'\\nParabéns! Você acertou na {cont}ª tentativa.')"
   ]
  }
 ],
 "metadata": {
  "kernelspec": {
   "display_name": "Python 3",
   "language": "python",
   "name": "python3"
  },
  "language_info": {
   "codemirror_mode": {
    "name": "ipython",
    "version": 3
   },
   "file_extension": ".py",
   "mimetype": "text/x-python",
   "name": "python",
   "nbconvert_exporter": "python",
   "pygments_lexer": "ipython3",
   "version": "3.8.5"
  }
 },
 "nbformat": 4,
 "nbformat_minor": 4
}
