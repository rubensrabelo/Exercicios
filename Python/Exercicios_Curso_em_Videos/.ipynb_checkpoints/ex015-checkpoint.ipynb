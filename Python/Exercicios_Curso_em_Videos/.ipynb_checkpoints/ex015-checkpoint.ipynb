{
 "cells": [
  {
   "cell_type": "code",
   "execution_count": 4,
   "metadata": {},
   "outputs": [
    {
     "name": "stdout",
     "output_type": "stream",
     "text": [
      "Distância percorrida: 350\n",
      "Dias alugados: 3\n",
      "O total a pagar é R$ 232.5.\n"
     ]
    }
   ],
   "source": [
    "dist = float(input('Distância percorrida: '))\n",
    "dias = float(input('Dias alugados: '))\n",
    "valor = (60 * dias) + (0.15 * dist)\n",
    "print(f'O total a pagar é R$ {valor:.2f}.')"
   ]
  }
 ],
 "metadata": {
  "kernelspec": {
   "display_name": "Python 3",
   "language": "python",
   "name": "python3"
  },
  "language_info": {
   "codemirror_mode": {
    "name": "ipython",
    "version": 3
   },
   "file_extension": ".py",
   "mimetype": "text/x-python",
   "name": "python",
   "nbconvert_exporter": "python",
   "pygments_lexer": "ipython3",
   "version": "3.8.5"
  }
 },
 "nbformat": 4,
 "nbformat_minor": 4
}
