{
 "cells": [
  {
   "cell_type": "code",
   "execution_count": 3,
   "metadata": {},
   "outputs": [
    {
     "name": "stdout",
     "output_type": "stream",
     "text": [
      "=============LOJA DO RUBÃO==============\n",
      "Digite o preço: 1500\n",
      "\n",
      "ESCOLHA A OPÇÃO DE PAGAMENTO:\n",
      "[1] A vista dinheiro / cheque.\n",
      "[2] A vista no cartão.\n",
      "[3] Em até 2x no cartão.\n",
      "[4] Em até 3x ou mais no cartão\n",
      "Digite a opção: 2\n",
      "O preço final é R$ 1,425.00.\n"
     ]
    }
   ],
   "source": [
    "print('{:=^40}'.format('LOJA DO RUBÃO'))\n",
    "preco = float(input('Digite o preço: '))\n",
    "print('\\nESCOLHA A OPÇÃO DE PAGAMENTO:')\n",
    "print('[1] A vista dinheiro / cheque.')\n",
    "print('[2] A vista no cartão.')\n",
    "print('[3] Em até 2x no cartão.')\n",
    "print('[4] Em até 3x ou mais no cartão')\n",
    "opcao = int(input('Digite a opção: '))\n",
    "if opcao == 1:\n",
    "    print('O preço final é R$ {:,.2f}.'.format(preco - (preco * 0.10)))\n",
    "elif opcao == 2:\n",
    "    print('O preço final é R$ {:,.2f}.'.format(preco - (preco * 0.05)))\n",
    "elif opcao == 3:\n",
    "    print('O preço final é R$ {:,.2f}.'.format(preco))\n",
    "else:\n",
    "    print('O preço final é R$ {:,.2f}.'.format(preco + (preco * 0.20)))"
   ]
  }
 ],
 "metadata": {
  "kernelspec": {
   "display_name": "Python 3",
   "language": "python",
   "name": "python3"
  },
  "language_info": {
   "codemirror_mode": {
    "name": "ipython",
    "version": 3
   },
   "file_extension": ".py",
   "mimetype": "text/x-python",
   "name": "python",
   "nbconvert_exporter": "python",
   "pygments_lexer": "ipython3",
   "version": "3.8.5"
  }
 },
 "nbformat": 4,
 "nbformat_minor": 4
}
