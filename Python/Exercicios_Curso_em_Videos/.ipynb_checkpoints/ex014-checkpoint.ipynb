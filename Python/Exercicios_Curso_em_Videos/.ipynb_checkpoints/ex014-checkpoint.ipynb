{
 "cells": [
  {
   "cell_type": "code",
   "execution_count": 2,
   "metadata": {},
   "outputs": [
    {
     "name": "stdout",
     "output_type": "stream",
     "text": [
      "Informe a temperatura em °C: 0\n",
      "A temperatude de 0.00 °C corresponde a 32.00 °F.\n"
     ]
    }
   ],
   "source": [
    "c = float(input('Informe a temperatura em °C: '))\n",
    "f = (9 * c + 160) / 5\n",
    "print(f'A temperatude de {c:.2f} °C corresponde a {f:.2f} °F.')"
   ]
  }
 ],
 "metadata": {
  "kernelspec": {
   "display_name": "Python 3",
   "language": "python",
   "name": "python3"
  },
  "language_info": {
   "codemirror_mode": {
    "name": "ipython",
    "version": 3
   },
   "file_extension": ".py",
   "mimetype": "text/x-python",
   "name": "python",
   "nbconvert_exporter": "python",
   "pygments_lexer": "ipython3",
   "version": "3.8.5"
  }
 },
 "nbformat": 4,
 "nbformat_minor": 4
}
