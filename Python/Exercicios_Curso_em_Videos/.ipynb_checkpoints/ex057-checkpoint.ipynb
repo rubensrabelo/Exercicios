{
 "cells": [
  {
   "cell_type": "code",
   "execution_count": 6,
   "metadata": {},
   "outputs": [
    {
     "name": "stdout",
     "output_type": "stream",
     "text": [
      "Informe seu sexo [M/F]: g\n",
      "Dados inválidos. Por favor, infome seu sexo [M/F]: g\n",
      "Dados inválidos. Por favor, infome seu sexo [M/F]: g\n",
      "Dados inválidos. Por favor, infome seu sexo [M/F]: f\n",
      "O sexo F foi registrado com sucesso.\n"
     ]
    }
   ],
   "source": [
    "sexo = str(input('Informe seu sexo [M/F]: ')).strip().upper()\n",
    "while sexo != 'M' and sexo!= 'F':\n",
    "    sexo = str(input('Dados inválidos. Por favor, infome seu sexo [M/F]: ')).strip().upper()\n",
    "print(f'O sexo {sexo} foi registrado com sucesso.')"
   ]
  }
 ],
 "metadata": {
  "kernelspec": {
   "display_name": "Python 3",
   "language": "python",
   "name": "python3"
  },
  "language_info": {
   "codemirror_mode": {
    "name": "ipython",
    "version": 3
   },
   "file_extension": ".py",
   "mimetype": "text/x-python",
   "name": "python",
   "nbconvert_exporter": "python",
   "pygments_lexer": "ipython3",
   "version": "3.8.5"
  }
 },
 "nbformat": 4,
 "nbformat_minor": 4
}
