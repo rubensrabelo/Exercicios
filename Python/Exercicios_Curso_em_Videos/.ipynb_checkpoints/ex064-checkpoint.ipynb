{
 "cells": [
  {
   "cell_type": "code",
   "execution_count": 7,
   "metadata": {},
   "outputs": [
    {
     "name": "stdout",
     "output_type": "stream",
     "text": [
      "Digite um número [999 para parar]: 5\n",
      "Digite um número [999 para parar]: 5\n",
      "Digite um número [999 para parar]: 5\n",
      "Digite um número [999 para parar]: 999\n",
      "A soma dois números digitados é 15.\n"
     ]
    }
   ],
   "source": [
    "num = 0\n",
    "soma = 0\n",
    "\n",
    "num = int(input('Digite um número [999 para parar]: '))\n",
    "\n",
    "while num != 999:\n",
    "    soma += num\n",
    "    num = int(input('Digite um número [999 para parar]: '))\n",
    "    \n",
    "print(f'A soma dois números digitados é {soma}.')"
   ]
  }
 ],
 "metadata": {
  "kernelspec": {
   "display_name": "Python 3",
   "language": "python",
   "name": "python3"
  },
  "language_info": {
   "codemirror_mode": {
    "name": "ipython",
    "version": 3
   },
   "file_extension": ".py",
   "mimetype": "text/x-python",
   "name": "python",
   "nbconvert_exporter": "python",
   "pygments_lexer": "ipython3",
   "version": "3.8.5"
  }
 },
 "nbformat": 4,
 "nbformat_minor": 4
}
