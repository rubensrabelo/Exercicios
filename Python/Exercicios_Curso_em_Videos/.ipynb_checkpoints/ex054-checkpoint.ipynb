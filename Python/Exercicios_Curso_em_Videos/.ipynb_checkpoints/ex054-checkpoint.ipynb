{
 "cells": [
  {
   "cell_type": "code",
   "execution_count": 28,
   "metadata": {},
   "outputs": [
    {
     "name": "stdout",
     "output_type": "stream",
     "text": [
      "Em que ano a 1ª pessoa nasceu? 2010\n",
      "Em que ano a 2ª pessoa nasceu? 2010\n",
      "Em que ano a 3ª pessoa nasceu? 2010\n",
      "Em que ano a 4ª pessoa nasceu? 2010\n",
      "Em que ano a 5ª pessoa nasceu? 2010\n",
      "Em que ano a 6ª pessoa nasceu? 2010\n",
      "Em que ano a 7ª pessoa nasceu? 1999\n",
      "Ao todo tivemos 1 pessoas maiores de idade\n",
      "Ao todo tivemos 6 pessoas menores de idade\n"
     ]
    }
   ],
   "source": [
    "import datetime\n",
    "\n",
    "anoAtual = datetime.date.today().year\n",
    "maior = 0\n",
    "menor = 0\n",
    "\n",
    "for c in range(1, 8):\n",
    "    ano = int(input(f'Em que ano a {c}ª pessoa nasceu? '))\n",
    "    idade = anoAtual - ano\n",
    "    if idade >= 18:\n",
    "        maior += 1\n",
    "    else:\n",
    "        menor += 1\n",
    "print(f'Ao todo tivemos {maior} pessoas maiores de idade')\n",
    "print(f'Ao todo tivemos {menor} pessoas menores de idade')"
   ]
  }
 ],
 "metadata": {
  "kernelspec": {
   "display_name": "Python 3",
   "language": "python",
   "name": "python3"
  },
  "language_info": {
   "codemirror_mode": {
    "name": "ipython",
    "version": 3
   },
   "file_extension": ".py",
   "mimetype": "text/x-python",
   "name": "python",
   "nbconvert_exporter": "python",
   "pygments_lexer": "ipython3",
   "version": "3.8.5"
  }
 },
 "nbformat": 4,
 "nbformat_minor": 4
}
