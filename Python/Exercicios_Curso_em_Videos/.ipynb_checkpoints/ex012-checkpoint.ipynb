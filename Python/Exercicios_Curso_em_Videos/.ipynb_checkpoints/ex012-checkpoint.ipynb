{
 "cells": [
  {
   "cell_type": "code",
   "execution_count": 1,
   "metadata": {},
   "outputs": [
    {
     "name": "stdout",
     "output_type": "stream",
     "text": [
      "Digite o preço do produto R$: 123.95\n",
      "O produto que custava 123.95, com o desconto de 5% para para R$ 130.15\n"
     ]
    }
   ],
   "source": [
    "prod = float(input('Digite o preço do produto R$: '))\n",
    "desc = prod - (prod * 0.05)\n",
    "print(f'O produto que custava {prod:.2f}, com o desconto de 5% para para R$ {desc:.2f}')"
   ]
  }
 ],
 "metadata": {
  "kernelspec": {
   "display_name": "Python 3",
   "language": "python",
   "name": "python3"
  },
  "language_info": {
   "codemirror_mode": {
    "name": "ipython",
    "version": 3
   },
   "file_extension": ".py",
   "mimetype": "text/x-python",
   "name": "python",
   "nbconvert_exporter": "python",
   "pygments_lexer": "ipython3",
   "version": "3.8.5"
  }
 },
 "nbformat": 4,
 "nbformat_minor": 4
}
