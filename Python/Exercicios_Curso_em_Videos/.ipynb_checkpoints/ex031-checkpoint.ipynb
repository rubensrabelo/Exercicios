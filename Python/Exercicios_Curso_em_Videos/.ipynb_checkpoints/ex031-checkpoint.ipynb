{
 "cells": [
  {
   "cell_type": "code",
   "execution_count": 4,
   "metadata": {},
   "outputs": [
    {
     "name": "stdout",
     "output_type": "stream",
     "text": [
      "Digite a distância da viagem [km]: 150\n",
      "Com a distância de 150.00, o preço fica R$ 75.00.\n"
     ]
    }
   ],
   "source": [
    "dist = float(input('Digite a distância da viagem [km]: '))\n",
    "\n",
    "if dist <= 200:\n",
    "    preco = 0.50 * dist\n",
    "    print(f'Com a distância de {dist:.2f}, o preço fica R$ {preco:.2f}.')\n",
    "else:\n",
    "    preco = 0.45 * dist\n",
    "    print(preco)\n",
    "    print(f'Com a distância de {dist:.2f}, o preço fica R$ {preco:.2f}.')"
   ]
  }
 ],
 "metadata": {
  "kernelspec": {
   "display_name": "Python 3",
   "language": "python",
   "name": "python3"
  },
  "language_info": {
   "codemirror_mode": {
    "name": "ipython",
    "version": 3
   },
   "file_extension": ".py",
   "mimetype": "text/x-python",
   "name": "python",
   "nbconvert_exporter": "python",
   "pygments_lexer": "ipython3",
   "version": "3.8.5"
  }
 },
 "nbformat": 4,
 "nbformat_minor": 4
}
