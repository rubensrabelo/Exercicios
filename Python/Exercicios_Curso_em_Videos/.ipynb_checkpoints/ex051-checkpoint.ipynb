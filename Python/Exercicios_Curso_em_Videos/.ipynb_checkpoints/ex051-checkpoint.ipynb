{
 "cells": [
  {
   "cell_type": "code",
   "execution_count": 6,
   "metadata": {},
   "outputs": [
    {
     "name": "stdout",
     "output_type": "stream",
     "text": [
      "Primeiro termo: 0\n",
      "Razão: 2\n",
      "0 -> 2 -> 4 -> 6 -> 8 -> 10 -> 12 -> 14 -> 16 -> 18 -> Acabou!\n"
     ]
    }
   ],
   "source": [
    "a1 = int(input('Primeiro termo: '))\n",
    "r = int(input('Razão: '))\n",
    "\n",
    "for n in range(1, 11):\n",
    "    an = a1 + (n - 1) * r\n",
    "    print(an,'->', end=' ')\n",
    "print('Acabou!')"
   ]
  }
 ],
 "metadata": {
  "kernelspec": {
   "display_name": "Python 3",
   "language": "python",
   "name": "python3"
  },
  "language_info": {
   "codemirror_mode": {
    "name": "ipython",
    "version": 3
   },
   "file_extension": ".py",
   "mimetype": "text/x-python",
   "name": "python",
   "nbconvert_exporter": "python",
   "pygments_lexer": "ipython3",
   "version": "3.8.5"
  }
 },
 "nbformat": 4,
 "nbformat_minor": 4
}
