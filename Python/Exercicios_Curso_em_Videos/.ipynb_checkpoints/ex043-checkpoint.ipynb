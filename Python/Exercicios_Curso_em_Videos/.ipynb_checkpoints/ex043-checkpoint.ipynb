{
 "cells": [
  {
   "cell_type": "code",
   "execution_count": 4,
   "metadata": {},
   "outputs": [
    {
     "name": "stdout",
     "output_type": "stream",
     "text": [
      "Digite seu peso: 150\n",
      "Digite sua altura: 1.60\n",
      "\n",
      "Seu IMC é 58.59.\n",
      "CUIDADO! Você está OBESIDADE MÓRBIDA.\n"
     ]
    }
   ],
   "source": [
    "peso = float(input('Digite seu peso: '))\n",
    "altura = float(input('Digite sua altura: '))\n",
    "imc = peso / altura**2\n",
    "print(f'\\nSeu IMC é {imc:.2f}.')\n",
    "if imc < 18.5:\n",
    "    print('Você está abaixo do peso!')\n",
    "elif imc < 25:\n",
    "    print('Você está com o peso ideal!')\n",
    "elif imc < 30:\n",
    "    print('Você está com sobrepeso!')\n",
    "elif imc < 40:\n",
    "    print('CUIDADO! Você está obeso.')\n",
    "else:\n",
    "    print('CUIDADO! Você está OBESIDADE MÓRBIDA.')"
   ]
  }
 ],
 "metadata": {
  "kernelspec": {
   "display_name": "Python 3",
   "language": "python",
   "name": "python3"
  },
  "language_info": {
   "codemirror_mode": {
    "name": "ipython",
    "version": 3
   },
   "file_extension": ".py",
   "mimetype": "text/x-python",
   "name": "python",
   "nbconvert_exporter": "python",
   "pygments_lexer": "ipython3",
   "version": "3.8.5"
  }
 },
 "nbformat": 4,
 "nbformat_minor": 4
}
