{
 "cells": [
  {
   "cell_type": "code",
   "execution_count": 9,
   "metadata": {},
   "outputs": [
    {
     "name": "stdout",
     "output_type": "stream",
     "text": [
      "Nome: Rubens\n",
      "Idade: 24\n",
      "Sexo [M/F]: m\n",
      "{'Rubens': 'M'}\n"
     ]
    }
   ],
   "source": [
    "cadastro = {}\n",
    "lista = []\n",
    "\n",
    "for i in range(0, 1):\n",
    "    nome = str(input('Nome: '))\n",
    "    cadastro[nome] = idade = int(input('Idade: '))\n",
    "    cadastro[nome] = sexo = str(input('Sexo [M/F]: ')).upper()\n",
    "print(cadastro)"
   ]
  }
 ],
 "metadata": {
  "kernelspec": {
   "display_name": "Python 3",
   "language": "python",
   "name": "python3"
  },
  "language_info": {
   "codemirror_mode": {
    "name": "ipython",
    "version": 3
   },
   "file_extension": ".py",
   "mimetype": "text/x-python",
   "name": "python",
   "nbconvert_exporter": "python",
   "pygments_lexer": "ipython3",
   "version": "3.8.5"
  }
 },
 "nbformat": 4,
 "nbformat_minor": 4
}
