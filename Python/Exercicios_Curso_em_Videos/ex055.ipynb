{
 "cells": [
  {
   "cell_type": "code",
   "execution_count": 12,
   "metadata": {},
   "outputs": [
    {
     "name": "stdout",
     "output_type": "stream",
     "text": [
      "Digite o peso da 1ª pessoa: 11\n",
      "Digite o peso da 2ª pessoa: 22\n",
      "Digite o peso da 3ª pessoa: 33\n",
      "Digite o peso da 4ª pessoa: 44\n",
      "Digite o peso da 5ª pessoa: 55\n",
      "O maior peso é 55.00 Kg.\n",
      "O menor peso é 11.00 Kg.\n"
     ]
    }
   ],
   "source": [
    "peso = []\n",
    "\n",
    "for i in range(0, 5):\n",
    "    peso.append(float(input(f'Digite o peso da {i+1}ª pessoa: ')))\n",
    "print('O maior peso é {:.2f} Kg.'.format(max(peso)))\n",
    "print('O menor peso é {:.2f} Kg.'.format(min(peso)))"
   ]
  }
 ],
 "metadata": {
  "kernelspec": {
   "display_name": "Python 3",
   "language": "python",
   "name": "python3"
  },
  "language_info": {
   "codemirror_mode": {
    "name": "ipython",
    "version": 3
   },
   "file_extension": ".py",
   "mimetype": "text/x-python",
   "name": "python",
   "nbconvert_exporter": "python",
   "pygments_lexer": "ipython3",
   "version": "3.8.5"
  }
 },
 "nbformat": 4,
 "nbformat_minor": 4
}
