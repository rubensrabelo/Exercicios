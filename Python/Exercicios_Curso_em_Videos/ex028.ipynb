{
 "cells": [
  {
   "cell_type": "code",
   "execution_count": 6,
   "metadata": {},
   "outputs": [
    {
     "name": "stdout",
     "output_type": "stream",
     "text": [
      "Escolha um número de 0 a 5\n",
      "em que número eu pensei? 2\n",
      "PROCESSANDO...\n",
      "PARABÉNS! Você conseguiu me vencer.\n"
     ]
    }
   ],
   "source": [
    "import random\n",
    "\n",
    "print('Escolha um número de 0 a 5')\n",
    "\n",
    "num = int(input('em que número eu pensei? '))\n",
    "\n",
    "num2 = random.randint(0, 5)\n",
    "\n",
    "print('PROCESSANDO...')\n",
    "\n",
    "if num == num2:\n",
    "    print('PARABÉNS! Você conseguiu me vencer.')\n",
    "else:\n",
    "    print(f'GANHEI! Eu pensei no {num2} e não no {num}.')"
   ]
  }
 ],
 "metadata": {
  "kernelspec": {
   "display_name": "Python 3",
   "language": "python",
   "name": "python3"
  },
  "language_info": {
   "codemirror_mode": {
    "name": "ipython",
    "version": 3
   },
   "file_extension": ".py",
   "mimetype": "text/x-python",
   "name": "python",
   "nbconvert_exporter": "python",
   "pygments_lexer": "ipython3",
   "version": "3.8.5"
  }
 },
 "nbformat": 4,
 "nbformat_minor": 4
}
