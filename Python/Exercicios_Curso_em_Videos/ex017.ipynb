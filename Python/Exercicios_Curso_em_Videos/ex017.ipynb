{
 "cells": [
  {
   "cell_type": "code",
   "execution_count": 3,
   "metadata": {},
   "outputs": [
    {
     "name": "stdout",
     "output_type": "stream",
     "text": [
      "Comprimento do cateto oposto: 3.5\n",
      "Comprimento do cateto adjacente: 4.75\n",
      "A hipotenusa vai medir 5.90.\n"
     ]
    }
   ],
   "source": [
    "from math import hypot\n",
    "co = float(input('Comprimento do cateto oposto: '))\n",
    "ca = float(input('Comprimento do cateto adjacente: '))\n",
    "h = hypot(co, ca)\n",
    "print(f'A hipotenusa vai medir {h:.2f}.')"
   ]
  }
 ],
 "metadata": {
  "kernelspec": {
   "display_name": "Python 3",
   "language": "python",
   "name": "python3"
  },
  "language_info": {
   "codemirror_mode": {
    "name": "ipython",
    "version": 3
   },
   "file_extension": ".py",
   "mimetype": "text/x-python",
   "name": "python",
   "nbconvert_exporter": "python",
   "pygments_lexer": "ipython3",
   "version": "3.8.5"
  }
 },
 "nbformat": 4,
 "nbformat_minor": 4
}
