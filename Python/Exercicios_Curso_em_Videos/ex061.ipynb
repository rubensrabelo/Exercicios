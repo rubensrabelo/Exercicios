{
 "cells": [
  {
   "cell_type": "code",
   "execution_count": 2,
   "metadata": {},
   "outputs": [
    {
     "name": "stdout",
     "output_type": "stream",
     "text": [
      "GERADOR DE PA\n",
      "=-=-=-=-=-=-=-=-=-=-\n",
      "Primeiro termo: 5\n",
      "Razão: 2\n",
      "3 -> 5 -> 7 -> 9 -> 11 -> 13 -> 15 -> 17 -> 19 -> 21 -> 23 -> Acabou!\n"
     ]
    }
   ],
   "source": [
    "print('GERADOR DE PA')\n",
    "print('=-' * 10)\n",
    "a1 = int(input('Primeiro termo: '))\n",
    "r = int(input('Razão: '))\n",
    "n = 0\n",
    "\n",
    "while n < 11:\n",
    "    an = a1 + (n - 1) * r\n",
    "    print(an,'->', end=' ')\n",
    "    n+= 1\n",
    "print('Acabou!')"
   ]
  }
 ],
 "metadata": {
  "kernelspec": {
   "display_name": "Python 3",
   "language": "python",
   "name": "python3"
  },
  "language_info": {
   "codemirror_mode": {
    "name": "ipython",
    "version": 3
   },
   "file_extension": ".py",
   "mimetype": "text/x-python",
   "name": "python",
   "nbconvert_exporter": "python",
   "pygments_lexer": "ipython3",
   "version": "3.8.5"
  }
 },
 "nbformat": 4,
 "nbformat_minor": 4
}
