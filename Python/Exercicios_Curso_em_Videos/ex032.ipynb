{
 "cells": [
  {
   "cell_type": "code",
   "execution_count": 3,
   "metadata": {},
   "outputs": [
    {
     "name": "stdout",
     "output_type": "stream",
     "text": [
      "Qual ano você quer analisar? Coloque 0 para o ano atual: 0\n",
      "O ano 2021 não é BISSEXTO!\n"
     ]
    }
   ],
   "source": [
    "from datetime import date\n",
    "\n",
    "ano = int(input('Qual ano você quer analisar? Coloque 0 para o ano atual: '))\n",
    "\n",
    "if ano == 0:\n",
    "    ano = date.today().year\n",
    "\n",
    "if ano % 4 == 0 and ano % 100 != 0 or ano % 400 == 0:\n",
    "    print(f'O ano {ano} é BISSEXTO!')\n",
    "else:\n",
    "    print(f'O ano {ano} não é BISSEXTO!')"
   ]
  }
 ],
 "metadata": {
  "kernelspec": {
   "display_name": "Python 3",
   "language": "python",
   "name": "python3"
  },
  "language_info": {
   "codemirror_mode": {
    "name": "ipython",
    "version": 3
   },
   "file_extension": ".py",
   "mimetype": "text/x-python",
   "name": "python",
   "nbconvert_exporter": "python",
   "pygments_lexer": "ipython3",
   "version": "3.8.5"
  }
 },
 "nbformat": 4,
 "nbformat_minor": 4
}
