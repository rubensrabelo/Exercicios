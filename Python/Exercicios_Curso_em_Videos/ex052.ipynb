{
 "cells": [
  {
   "cell_type": "code",
   "execution_count": 18,
   "metadata": {},
   "outputs": [
    {
     "name": "stdout",
     "output_type": "stream",
     "text": [
      "Digite um número: 5\n",
      "O 5 foi divisível 2 vezes, logo ele é um número primo.\n"
     ]
    }
   ],
   "source": [
    "num = int(input('Digite um número: '))\n",
    "cont = 0\n",
    "\n",
    "for i in range(1, num + 1):\n",
    "    if num % i == 0:\n",
    "        cont += 1\n",
    "if cont == 2:\n",
    "    print(f'O {num} foi divisível {cont} vezes, logo ele é um número primo.')\n",
    "else:\n",
    "    print(f'O {num} foi divisível {cont} vezes, logo ele não é um número primo.')"
   ]
  }
 ],
 "metadata": {
  "kernelspec": {
   "display_name": "Python 3",
   "language": "python",
   "name": "python3"
  },
  "language_info": {
   "codemirror_mode": {
    "name": "ipython",
    "version": 3
   },
   "file_extension": ".py",
   "mimetype": "text/x-python",
   "name": "python",
   "nbconvert_exporter": "python",
   "pygments_lexer": "ipython3",
   "version": "3.8.5"
  }
 },
 "nbformat": 4,
 "nbformat_minor": 4
}
