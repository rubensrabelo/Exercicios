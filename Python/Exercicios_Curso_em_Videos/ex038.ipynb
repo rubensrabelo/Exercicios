{
 "cells": [
  {
   "cell_type": "code",
   "execution_count": 7,
   "metadata": {},
   "outputs": [
    {
     "name": "stdout",
     "output_type": "stream",
     "text": [
      "Digite o primeiro número: 6\n",
      "Digite o segundo número: 6\n",
      "\n",
      "Os dois números são iguais.\n"
     ]
    }
   ],
   "source": [
    "n1 = int(input('Digite o primeiro número: '))\n",
    "n2 = int(input('Digite o segundo número: '))\n",
    "if n1 > n2:\n",
    "    print('\\nO PRIMEIRO número é o maior.')\n",
    "elif n2 > n1:\n",
    "    print('\\nO SEGUNDO número é o maior.')\n",
    "else:\n",
    "    print('\\nOs dois números são iguais.')"
   ]
  }
 ],
 "metadata": {
  "kernelspec": {
   "display_name": "Python 3",
   "language": "python",
   "name": "python3"
  },
  "language_info": {
   "codemirror_mode": {
    "name": "ipython",
    "version": 3
   },
   "file_extension": ".py",
   "mimetype": "text/x-python",
   "name": "python",
   "nbconvert_exporter": "python",
   "pygments_lexer": "ipython3",
   "version": "3.8.5"
  }
 },
 "nbformat": 4,
 "nbformat_minor": 4
}
