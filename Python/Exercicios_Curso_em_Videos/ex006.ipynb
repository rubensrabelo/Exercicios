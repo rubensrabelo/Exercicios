{
 "cells": [
  {
   "cell_type": "code",
   "execution_count": 3,
   "metadata": {},
   "outputs": [
    {
     "name": "stdout",
     "output_type": "stream",
     "text": [
      "Digite um valor: 85\n",
      "O dobro de 85.0 é 170.0.\n",
      "O triplo de 85.0 é 255.0.\n",
      "A raiz de 85.0 é 42.50.\n"
     ]
    }
   ],
   "source": [
    "num = float(input('Digite um valor: '))\n",
    "dob = num * 2\n",
    "tri = num * 3\n",
    "raiz = num * (1 / 2)\n",
    "print(f'O dobro de {num} é {dob}.')\n",
    "print(f'O triplo de {num} é {tri}.')\n",
    "print(f'A raiz de {num} é {raiz:.2f}.')"
   ]
  }
 ],
 "metadata": {
  "kernelspec": {
   "display_name": "Python 3",
   "language": "python",
   "name": "python3"
  },
  "language_info": {
   "codemirror_mode": {
    "name": "ipython",
    "version": 3
   },
   "file_extension": ".py",
   "mimetype": "text/x-python",
   "name": "python",
   "nbconvert_exporter": "python",
   "pygments_lexer": "ipython3",
   "version": "3.8.5"
  }
 },
 "nbformat": 4,
 "nbformat_minor": 4
}
