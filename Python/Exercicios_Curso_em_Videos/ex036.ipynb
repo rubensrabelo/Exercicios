{
 "cells": [
  {
   "cell_type": "code",
   "execution_count": 12,
   "metadata": {},
   "outputs": [
    {
     "name": "stdout",
     "output_type": "stream",
     "text": [
      "Digite o valor da casa: 100000000\n",
      "Digite seu salário: 10000\n",
      "Em quantos anos você vai pagar? 5\n",
      "\n",
      "EMPRÉSTIMO NEGADO!\n"
     ]
    }
   ],
   "source": [
    "valorCasa = float(input('Digite o valor da casa: '))\n",
    "salario = float(input('Digite seu salário: '))\n",
    "anos = float(input('Em quantos anos você vai pagar? '))\n",
    "\n",
    "prestacao = valorCasa / (anos * 12)\n",
    "minimo = salario * 30 / 100\n",
    "\n",
    "if prestacao <= minimo:\n",
    "    print('\\nEMPRÉSTIMO CONCEDIDO!')\n",
    "else:\n",
    "    print('\\nEMPRÉSTIMO NEGADO!')"
   ]
  }
 ],
 "metadata": {
  "kernelspec": {
   "display_name": "Python 3",
   "language": "python",
   "name": "python3"
  },
  "language_info": {
   "codemirror_mode": {
    "name": "ipython",
    "version": 3
   },
   "file_extension": ".py",
   "mimetype": "text/x-python",
   "name": "python",
   "nbconvert_exporter": "python",
   "pygments_lexer": "ipython3",
   "version": "3.8.5"
  }
 },
 "nbformat": 4,
 "nbformat_minor": 4
}
