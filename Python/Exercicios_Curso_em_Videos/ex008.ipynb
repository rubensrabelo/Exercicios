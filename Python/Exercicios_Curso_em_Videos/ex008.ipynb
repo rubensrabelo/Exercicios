{
 "cells": [
  {
   "cell_type": "code",
   "execution_count": 1,
   "metadata": {},
   "outputs": [
    {
     "name": "stdout",
     "output_type": "stream",
     "text": [
      "Digite a medida[m]: 3\n",
      "A medida de 3.0 corresponde a:\n",
      "0.003 km\n",
      "0.03 hm\n",
      "0.3 dam\n",
      "30.0 dm\n",
      "300.0 cm\n",
      "3000.0 mm\n"
     ]
    }
   ],
   "source": [
    "m = float(input('Digite a medida[m]: '))\n",
    "km = m / 1000\n",
    "hm = m /100\n",
    "dam = m / 10\n",
    "dm = m * 10\n",
    "cm = m * 100\n",
    "mm = m * 1000\n",
    "print(f'A medida de {m} corresponde a:')\n",
    "print(f'{km} km')\n",
    "print(f'{hm} hm')\n",
    "print(f'{dam} dam')\n",
    "print(f'{dm} dm')\n",
    "print(f'{cm} cm')\n",
    "print(f'{mm} mm')"
   ]
  }
 ],
 "metadata": {
  "kernelspec": {
   "display_name": "Python 3",
   "language": "python",
   "name": "python3"
  },
  "language_info": {
   "codemirror_mode": {
    "name": "ipython",
    "version": 3
   },
   "file_extension": ".py",
   "mimetype": "text/x-python",
   "name": "python",
   "nbconvert_exporter": "python",
   "pygments_lexer": "ipython3",
   "version": "3.8.5"
  }
 },
 "nbformat": 4,
 "nbformat_minor": 4
}
