{
 "cells": [
  {
   "cell_type": "code",
   "execution_count": 2,
   "metadata": {},
   "outputs": [
    {
     "name": "stdout",
     "output_type": "stream",
     "text": [
      "Primeiro Aluno: Paulo\n",
      "Segundo Aluno: Rebeca\n",
      "Terceiro Aluno: Fernanda\n",
      "Quarto Aluno: Rubens\n",
      "O aluno escohido foi Paulo.\n"
     ]
    }
   ],
   "source": [
    "from random import choice\n",
    "a1 = str(input('Primeiro Aluno: '))\n",
    "a2 = str(input('Segundo Aluno: '))\n",
    "a3 = str(input('Terceiro Aluno: '))\n",
    "a4 = str(input('Quarto Aluno: '))\n",
    "lista_alunos = [a1, a2, a3, a4]\n",
    "a5 = choice(lista_alunos)\n",
    "print(f'O aluno escohido foi {a5}.')"
   ]
  }
 ],
 "metadata": {
  "kernelspec": {
   "display_name": "Python 3",
   "language": "python",
   "name": "python3"
  },
  "language_info": {
   "codemirror_mode": {
    "name": "ipython",
    "version": 3
   },
   "file_extension": ".py",
   "mimetype": "text/x-python",
   "name": "python",
   "nbconvert_exporter": "python",
   "pygments_lexer": "ipython3",
   "version": "3.8.5"
  }
 },
 "nbformat": 4,
 "nbformat_minor": 4
}
