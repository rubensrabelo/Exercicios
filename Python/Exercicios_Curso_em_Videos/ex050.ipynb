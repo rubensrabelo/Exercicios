{
 "cells": [
  {
   "cell_type": "code",
   "execution_count": 2,
   "metadata": {},
   "outputs": [
    {
     "name": "stdout",
     "output_type": "stream",
     "text": [
      "Digite um número: 2\n",
      "Digite um número: 3\n",
      "Digite um número: 5\n",
      "Digite um número: 7\n",
      "Digite um número: 9\n",
      "Digite um número: 8\n",
      "A soma dos números pares é 10.\n"
     ]
    }
   ],
   "source": [
    "soma = 0\n",
    "\n",
    "for i in range(0, 6):\n",
    "    num = int(input('Digite um número: '))\n",
    "    \n",
    "    if num % 2 ==0:\n",
    "        soma += num\n",
    "    num = 0\n",
    "print(f'A soma dos números pares é {soma}.')"
   ]
  }
 ],
 "metadata": {
  "kernelspec": {
   "display_name": "Python 3",
   "language": "python",
   "name": "python3"
  },
  "language_info": {
   "codemirror_mode": {
    "name": "ipython",
    "version": 3
   },
   "file_extension": ".py",
   "mimetype": "text/x-python",
   "name": "python",
   "nbconvert_exporter": "python",
   "pygments_lexer": "ipython3",
   "version": "3.8.5"
  }
 },
 "nbformat": 4,
 "nbformat_minor": 4
}
