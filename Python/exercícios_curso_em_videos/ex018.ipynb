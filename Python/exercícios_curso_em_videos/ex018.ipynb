{
 "cells": [
  {
   "cell_type": "code",
   "execution_count": 4,
   "metadata": {},
   "outputs": [
    {
     "name": "stdout",
     "output_type": "stream",
     "text": [
      "Digite o ângulo que você deseja: 30\n",
      "O ângulo 30.0 tem o seno de 0.50.\n",
      "O ângulo 30.0 tem o cosseno de 0.87.\n",
      "O ângulo 30.0 tem o tangente de 0.58.\n"
     ]
    }
   ],
   "source": [
    "from math import radians, sin, cos, tan \n",
    "num = (float(input('Digite o ângulo que você deseja: ')))\n",
    "seno = sin(radians(num))\n",
    "cosseno = cos(radians(num))\n",
    "tangente = tan(radians(num))\n",
    "print(f'O ângulo {num} tem o seno de {seno:.2f}.')\n",
    "print(f'O ângulo {num} tem o cosseno de {cosseno:.2f}.')\n",
    "print(f'O ângulo {num} tem o tangente de {tangente:.2f}.')"
   ]
  }
 ],
 "metadata": {
  "kernelspec": {
   "display_name": "Python 3",
   "language": "python",
   "name": "python3"
  },
  "language_info": {
   "codemirror_mode": {
    "name": "ipython",
    "version": 3
   },
   "file_extension": ".py",
   "mimetype": "text/x-python",
   "name": "python",
   "nbconvert_exporter": "python",
   "pygments_lexer": "ipython3",
   "version": "3.8.5"
  }
 },
 "nbformat": 4,
 "nbformat_minor": 4
}
