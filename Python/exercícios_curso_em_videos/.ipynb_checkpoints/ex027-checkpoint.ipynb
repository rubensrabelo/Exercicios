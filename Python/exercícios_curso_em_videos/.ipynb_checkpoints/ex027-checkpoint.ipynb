{
 "cells": [
  {
   "cell_type": "code",
   "execution_count": 8,
   "metadata": {},
   "outputs": [
    {
     "name": "stdout",
     "output_type": "stream",
     "text": [
      "Digite seu nome completo: Francisco de Souza Martins Rodrigues da Conceição\n",
      "Seu primeiro nome é Francisco.\n",
      "Seu último nome é Conceição.\n"
     ]
    }
   ],
   "source": [
    "nome = str(input(\"Digite seu nome completo: \")).strip()\n",
    "lista_nome = nome.split()\n",
    "print(f'Seu primeiro nome é {lista_nome[0]}.')\n",
    "print('Seu último nome é {}.'.format(nome[(nome.rfind(' ') + 1):]))"
   ]
  }
 ],
 "metadata": {
  "kernelspec": {
   "display_name": "Python 3",
   "language": "python",
   "name": "python3"
  },
  "language_info": {
   "codemirror_mode": {
    "name": "ipython",
    "version": 3
   },
   "file_extension": ".py",
   "mimetype": "text/x-python",
   "name": "python",
   "nbconvert_exporter": "python",
   "pygments_lexer": "ipython3",
   "version": "3.8.5"
  }
 },
 "nbformat": 4,
 "nbformat_minor": 4
}
