{
 "cells": [
  {
   "cell_type": "code",
   "execution_count": 18,
   "metadata": {},
   "outputs": [
    {
     "name": "stdout",
     "output_type": "stream",
     "text": [
      "Digite o ano de nascimento: 1997\n",
      "\n",
      "Quem nasceu em 1997 tem 24 anos em 2021.\n",
      "Você deveria ter se alistado há 6 anos.\n",
      "Seu alistamento ocorreu no ano de 2015.\n"
     ]
    }
   ],
   "source": [
    "import datetime\n",
    "\n",
    "nasc = int(input('Digite o ano de nascimento: '))\n",
    "anoAtual = datetime.date.today().year\n",
    "idade = anoAtual - nasc\n",
    "\n",
    "print(f'\\nQuem nasceu em {nasc} tem {idade} anos em {anoAtual}.')\n",
    "\n",
    "if idade == 18:\n",
    "    print('Você tem que se alistar IMEDIATAMENTE!')\n",
    "elif idade < 18:\n",
    "    print('Ainda falta {} anos para seu alistamento militar.'.format(18 - idade))\n",
    "    print('Seu alistamento acontecerá no ano de {}.'.format(anoAtual + (18 - idade)))\n",
    "else:\n",
    "    print('Você deveria ter se alistado há {} anos.'.format(idade - 18))\n",
    "    print('Seu alistamento ocorreu no ano de {}.'.format(anoAtual - (idade - 18)))"
   ]
  }
 ],
 "metadata": {
  "kernelspec": {
   "display_name": "Python 3",
   "language": "python",
   "name": "python3"
  },
  "language_info": {
   "codemirror_mode": {
    "name": "ipython",
    "version": 3
   },
   "file_extension": ".py",
   "mimetype": "text/x-python",
   "name": "python",
   "nbconvert_exporter": "python",
   "pygments_lexer": "ipython3",
   "version": "3.8.5"
  }
 },
 "nbformat": 4,
 "nbformat_minor": 4
}
