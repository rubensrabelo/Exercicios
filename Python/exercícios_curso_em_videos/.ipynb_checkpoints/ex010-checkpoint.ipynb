{
 "cells": [
  {
   "cell_type": "code",
   "execution_count": 2,
   "metadata": {},
   "outputs": [
    {
     "name": "stdout",
     "output_type": "stream",
     "text": [
      "Digite o quando você na sua carteira: 10\n",
      "Com R$ 10.00 você pode comprar U$ 53.30.\n"
     ]
    }
   ],
   "source": [
    "real = float(input('Digite o quando você na sua carteira: '))\n",
    "dolar = real * 5.33\n",
    "print(f'Com R$ {real:.2f} você pode comprar U$ {dolar:.2f}.')"
   ]
  }
 ],
 "metadata": {
  "kernelspec": {
   "display_name": "Python 3",
   "language": "python",
   "name": "python3"
  },
  "language_info": {
   "codemirror_mode": {
    "name": "ipython",
    "version": 3
   },
   "file_extension": ".py",
   "mimetype": "text/x-python",
   "name": "python",
   "nbconvert_exporter": "python",
   "pygments_lexer": "ipython3",
   "version": "3.8.5"
  }
 },
 "nbformat": 4,
 "nbformat_minor": 4
}
