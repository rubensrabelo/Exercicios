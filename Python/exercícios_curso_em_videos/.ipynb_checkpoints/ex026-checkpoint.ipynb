{
 "cells": [
  {
   "cell_type": "code",
   "execution_count": 5,
   "metadata": {},
   "outputs": [
    {
     "name": "stdout",
     "output_type": "stream",
     "text": [
      "Digite uma Frase: Amanda ama Pedro\n",
      "A letra A aparece 5 vezes.\n",
      "A primeira letra A apareceu na posição 1.\n",
      "A última letra A apareceu na posição 10.\n"
     ]
    }
   ],
   "source": [
    "frase = str(input('Digite uma Frase: '))\n",
    "print('A letra A aparece {} vezes.'.format(frase.upper().count('A')))\n",
    "print('A primeira letra A apareceu na posição {}.'.format(frase.upper().find('A') + 1))\n",
    "print('A última letra A apareceu na posição {}.'.format(frase.upper().rfind('A') + 1))"
   ]
  }
 ],
 "metadata": {
  "kernelspec": {
   "display_name": "Python 3",
   "language": "python",
   "name": "python3"
  },
  "language_info": {
   "codemirror_mode": {
    "name": "ipython",
    "version": 3
   },
   "file_extension": ".py",
   "mimetype": "text/x-python",
   "name": "python",
   "nbconvert_exporter": "python",
   "pygments_lexer": "ipython3",
   "version": "3.8.5"
  }
 },
 "nbformat": 4,
 "nbformat_minor": 4
}
