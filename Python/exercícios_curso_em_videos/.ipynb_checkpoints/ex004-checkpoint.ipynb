{
 "cells": [
  {
   "cell_type": "code",
   "execution_count": 6,
   "metadata": {},
   "outputs": [
    {
     "name": "stdout",
     "output_type": "stream",
     "text": [
      "Digite algo: 2\n",
      "O seu tipo primitvo é <class 'str'>.\n",
      "Só tem espaço? False.\n",
      "É um número? True.\n",
      "É alfabético? False.\n",
      "É alfanumérico? True.\n",
      "Está em maiúscula? False.\n",
      "Está em minúscula? False.\n",
      "Está capitalizada? False.\n"
     ]
    }
   ],
   "source": [
    "valor = input('Digite algo: ')\n",
    "print('O seu tipo primitvo é {}.'.format(type(valor)))\n",
    "print('Só tem espaço? {}.'.format(valor.isspace()))\n",
    "print('É um número? {}.'.format(valor.isnumeric()))\n",
    "print('É alfabético? {}.'.format(valor.isalpha()))\n",
    "print('É alfanumérico? {}.'.format(valor.isalnum()))\n",
    "print('Está em maiúscula? {}.'.format(valor.isupper()))\n",
    "print('Está em minúscula? {}.'.format(valor.islower()))\n",
    "print('Está capitalizada? {}.'.format(valor.istitle()))"
   ]
  },
  {
   "cell_type": "code",
   "execution_count": null,
   "metadata": {},
   "outputs": [],
   "source": []
  },
  {
   "cell_type": "code",
   "execution_count": null,
   "metadata": {},
   "outputs": [],
   "source": []
  }
 ],
 "metadata": {
  "kernelspec": {
   "display_name": "Python 3",
   "language": "python",
   "name": "python3"
  },
  "language_info": {
   "codemirror_mode": {
    "name": "ipython",
    "version": 3
   },
   "file_extension": ".py",
   "mimetype": "text/x-python",
   "name": "python",
   "nbconvert_exporter": "python",
   "pygments_lexer": "ipython3",
   "version": "3.8.5"
  }
 },
 "nbformat": 4,
 "nbformat_minor": 4
}
