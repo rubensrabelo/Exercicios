{
 "cells": [
  {
   "cell_type": "code",
   "execution_count": 2,
   "metadata": {},
   "outputs": [
    {
     "name": "stdout",
     "output_type": "stream",
     "text": [
      "Digite o nome do Aluno: Rubens\n",
      "A primeira nota: 4\n",
      "A segunda nota: 5\n",
      "A média do Rubens é 4.5.\n"
     ]
    }
   ],
   "source": [
    "nome = str(input('Digite o nome do Aluno: '))\n",
    "n1 = float(input('A primeira nota: '))\n",
    "n2 = float(input('A segunda nota: '))\n",
    "media = (n1 + n2) / 2\n",
    "print(f'A média do {nome} é {media}.')"
   ]
  }
 ],
 "metadata": {
  "kernelspec": {
   "display_name": "Python 3",
   "language": "python",
   "name": "python3"
  },
  "language_info": {
   "codemirror_mode": {
    "name": "ipython",
    "version": 3
   },
   "file_extension": ".py",
   "mimetype": "text/x-python",
   "name": "python",
   "nbconvert_exporter": "python",
   "pygments_lexer": "ipython3",
   "version": "3.8.5"
  }
 },
 "nbformat": 4,
 "nbformat_minor": 4
}
