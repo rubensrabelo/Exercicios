{
 "cells": [
  {
   "cell_type": "code",
   "execution_count": 2,
   "metadata": {},
   "outputs": [
    {
     "name": "stdout",
     "output_type": "stream",
     "text": [
      "Digite um número: 6\n",
      "6 x 1 = 6\n",
      "6 x 2 = 12\n",
      "6 x 3 = 18\n",
      "6 x 4 = 24\n",
      "6 x 5 = 30\n",
      "6 x 6 = 36\n",
      "6 x 7 = 42\n",
      "6 x 8 = 48\n",
      "6 x 9 = 54\n",
      "6 x 10 = 60\n"
     ]
    }
   ],
   "source": [
    "num = int(input('Digite um número: '))\n",
    "print('{} x 1 = {}'.format(num, num * 1))\n",
    "print('{} x 2 = {}'.format(num, num * 2))\n",
    "print('{} x 3 = {}'.format(num, num * 3))\n",
    "print('{} x 4 = {}'.format(num, num * 4))\n",
    "print('{} x 5 = {}'.format(num, num * 5))\n",
    "print('{} x 6 = {}'.format(num, num * 6))\n",
    "print('{} x 7 = {}'.format(num, num * 7))\n",
    "print('{} x 8 = {}'.format(num, num * 8))\n",
    "print('{} x 9 = {}'.format(num, num * 9))\n",
    "print('{} x 10 = {}'.format(num, num * 10))"
   ]
  }
 ],
 "metadata": {
  "kernelspec": {
   "display_name": "Python 3",
   "language": "python",
   "name": "python3"
  },
  "language_info": {
   "codemirror_mode": {
    "name": "ipython",
    "version": 3
   },
   "file_extension": ".py",
   "mimetype": "text/x-python",
   "name": "python",
   "nbconvert_exporter": "python",
   "pygments_lexer": "ipython3",
   "version": "3.8.5"
  }
 },
 "nbformat": 4,
 "nbformat_minor": 4
}
