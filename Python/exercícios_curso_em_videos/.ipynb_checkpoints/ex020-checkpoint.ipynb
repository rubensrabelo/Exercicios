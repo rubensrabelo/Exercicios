{
 "cells": [
  {
   "cell_type": "code",
   "execution_count": 6,
   "metadata": {},
   "outputs": [
    {
     "name": "stdout",
     "output_type": "stream",
     "text": [
      "Primeiro aluno: Rubens\n",
      "Segundo aluno: Rebeca\n",
      "Terceiro aluno: Paulo\n",
      "Quarto aluno: Gabriel\n",
      "A ordem de apresentação é\n",
      "['Paulo', 'Rebeca', 'Gabriel', 'Rubens']\n"
     ]
    }
   ],
   "source": [
    "from random import sample\n",
    "a1 = str(input('Primeiro aluno: '))\n",
    "a2 = str(input('Segundo aluno: '))\n",
    "a3 = str(input('Terceiro aluno: '))\n",
    "a4 = str(input('Quarto aluno: '))\n",
    "lista_alunos = [a1, a2, a3, a4]\n",
    "print('A ordem de apresentação é')\n",
    "print(sample(lista_alunos, len(lista_alunos)))"
   ]
  }
 ],
 "metadata": {
  "kernelspec": {
   "display_name": "Python 3",
   "language": "python",
   "name": "python3"
  },
  "language_info": {
   "codemirror_mode": {
    "name": "ipython",
    "version": 3
   },
   "file_extension": ".py",
   "mimetype": "text/x-python",
   "name": "python",
   "nbconvert_exporter": "python",
   "pygments_lexer": "ipython3",
   "version": "3.8.5"
  }
 },
 "nbformat": 4,
 "nbformat_minor": 4
}
