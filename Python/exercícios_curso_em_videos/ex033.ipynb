{
 "cells": [
  {
   "cell_type": "code",
   "execution_count": 5,
   "metadata": {},
   "outputs": [
    {
     "name": "stdout",
     "output_type": "stream",
     "text": [
      "Digite o primeiro valor: 1\n",
      "Digite o segundo valor: 3\n",
      "Digite o terceiro valor: 2\n",
      "O maior valor é 3.\n",
      "O menor valor é 1.\n"
     ]
    }
   ],
   "source": [
    "a = int(input('Digite o primeiro valor: '))\n",
    "b = int(input('Digite o segundo valor: '))\n",
    "c = int(input('Digite o terceiro valor: '))\n",
    "\n",
    "if a > b > c:\n",
    "    print(f'O maior valor é {a}.')\n",
    "    print(f'O menor valor é {c}.')\n",
    "elif b > c > a:\n",
    "    print(f'O maior valor é {b}.')\n",
    "    print(f'O menor valor é {a}.')\n",
    "elif c > a > b:\n",
    "    print(f'O maior valor é {c}.')\n",
    "    print(f'O menor valor é {b}.')\n",
    "elif b > a > c:\n",
    "    print(f'O maior valor é {b}.')\n",
    "    print(f'O menor valor é {c}.')\n",
    "elif a > c > b:\n",
    "    print(f'O maior valor é {a}.')\n",
    "    print(f'O menor valor é {b}.')\n",
    "else:\n",
    "    print(f'O maior valor é {c}.')\n",
    "    print(f'O menor valor é {a}.')"
   ]
  }
 ],
 "metadata": {
  "kernelspec": {
   "display_name": "Python 3",
   "language": "python",
   "name": "python3"
  },
  "language_info": {
   "codemirror_mode": {
    "name": "ipython",
    "version": 3
   },
   "file_extension": ".py",
   "mimetype": "text/x-python",
   "name": "python",
   "nbconvert_exporter": "python",
   "pygments_lexer": "ipython3",
   "version": "3.8.5"
  }
 },
 "nbformat": 4,
 "nbformat_minor": 4
}
