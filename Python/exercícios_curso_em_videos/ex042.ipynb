{
 "cells": [
  {
   "cell_type": "code",
   "execution_count": 7,
   "metadata": {},
   "outputs": [
    {
     "name": "stdout",
     "output_type": "stream",
     "text": [
      "Digite o primeiro segmento: 4\n",
      "Digite o segundo segmento: 3\n",
      "Digite o terceiro segmento: 4\n",
      "\n",
      "Os segmentos acima podem formar um triângulo.\n",
      "Os segmentos formam um triângulo isósceles.\n"
     ]
    }
   ],
   "source": [
    "s1 = float(input('Digite o primeiro segmento: '))\n",
    "s2 = float(input('Digite o segundo segmento: '))\n",
    "s3 = float(input('Digite o terceiro segmento: '))\n",
    "\n",
    "if s1 < s2 + s3 and s2 < s1 + s3 and s3 < s1 + s2:\n",
    "    print('\\nOs segmentos acima podem formar um triângulo.')\n",
    "    if s1 == s2 == s3:\n",
    "        print('Os segmentos formam um triângulo equilátero.')\n",
    "    elif s1 != s2 != s3 != s1:\n",
    "        print('Os segmentos formam um triângulo escaleno.')\n",
    "    else:\n",
    "        print('Os segmentos formam um triângulo isósceles.')\n",
    "else:\n",
    "    print('Os segmentos acima não podem formar um triângulo.')"
   ]
  },
  {
   "cell_type": "code",
   "execution_count": null,
   "metadata": {},
   "outputs": [],
   "source": []
  }
 ],
 "metadata": {
  "kernelspec": {
   "display_name": "Python 3",
   "language": "python",
   "name": "python3"
  },
  "language_info": {
   "codemirror_mode": {
    "name": "ipython",
    "version": 3
   },
   "file_extension": ".py",
   "mimetype": "text/x-python",
   "name": "python",
   "nbconvert_exporter": "python",
   "pygments_lexer": "ipython3",
   "version": "3.8.5"
  }
 },
 "nbformat": 4,
 "nbformat_minor": 4
}
