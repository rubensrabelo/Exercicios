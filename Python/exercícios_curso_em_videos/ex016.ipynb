{
 "cells": [
  {
   "cell_type": "code",
   "execution_count": 1,
   "metadata": {},
   "outputs": [
    {
     "name": "stdout",
     "output_type": "stream",
     "text": [
      "Digite um valor: 9.123\n",
      "O valor digitado foi 9.123 e a sua porção inteira 9.\n"
     ]
    }
   ],
   "source": [
    "from math import trunc\n",
    "num = float(input('Digite um valor: '))\n",
    "pint = trunc(num)\n",
    "print(f'O valor digitado foi {num} e a sua porção inteira {pint}.')"
   ]
  }
 ],
 "metadata": {
  "kernelspec": {
   "display_name": "Python 3",
   "language": "python",
   "name": "python3"
  },
  "language_info": {
   "codemirror_mode": {
    "name": "ipython",
    "version": 3
   },
   "file_extension": ".py",
   "mimetype": "text/x-python",
   "name": "python",
   "nbconvert_exporter": "python",
   "pygments_lexer": "ipython3",
   "version": "3.8.5"
  }
 },
 "nbformat": 4,
 "nbformat_minor": 4
}
