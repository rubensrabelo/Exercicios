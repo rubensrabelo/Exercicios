{
 "cells": [
  {
   "cell_type": "code",
   "execution_count": 5,
   "metadata": {},
   "outputs": [
    {
     "name": "stdout",
     "output_type": "stream",
     "text": [
      "Digite o salário: 900\n",
      "O salário de R$ 900.00 passa a ganhar R$ 1,035.00.\n"
     ]
    }
   ],
   "source": [
    "sal = float(input('Digite o salário: '))\n",
    "if sal > 1250:\n",
    "    print('O salário de R$ {:,.2f} passa a ganhar R$ {:,.2f}.'.format(sal, sal + (sal * 0.10)))\n",
    "else:\n",
    "    print('O salário de R$ {:,.2f} passa a ganhar R$ {:,.2f}.'.format(sal, sal + (sal * 0.15)))"
   ]
  }
 ],
 "metadata": {
  "kernelspec": {
   "display_name": "Python 3",
   "language": "python",
   "name": "python3"
  },
  "language_info": {
   "codemirror_mode": {
    "name": "ipython",
    "version": 3
   },
   "file_extension": ".py",
   "mimetype": "text/x-python",
   "name": "python",
   "nbconvert_exporter": "python",
   "pygments_lexer": "ipython3",
   "version": "3.8.5"
  }
 },
 "nbformat": 4,
 "nbformat_minor": 4
}
