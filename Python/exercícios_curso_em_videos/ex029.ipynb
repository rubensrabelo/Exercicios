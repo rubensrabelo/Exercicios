{
 "cells": [
  {
   "cell_type": "code",
   "execution_count": 5,
   "metadata": {},
   "outputs": [
    {
     "name": "stdout",
     "output_type": "stream",
     "text": [
      "Digite a velocidade do carro: 75\n",
      "\n",
      "Tenha um Bom dia! Dirija com segurança!\n"
     ]
    }
   ],
   "source": [
    "vel = float(input('Digite a velocidade do carro: '))\n",
    "mult = 7 * (vel - 80)\n",
    "\n",
    "if vel > 80:\n",
    "    print('\\nMULTADO! Você excedeu a velocidade permitida de 80 km/h.')\n",
    "    print(f'Sua multa será de R$ {mult:.2f}.')\n",
    "print('\\nTenha um Bom dia! Dirija com segurança!')"
   ]
  }
 ],
 "metadata": {
  "kernelspec": {
   "display_name": "Python 3",
   "language": "python",
   "name": "python3"
  },
  "language_info": {
   "codemirror_mode": {
    "name": "ipython",
    "version": 3
   },
   "file_extension": ".py",
   "mimetype": "text/x-python",
   "name": "python",
   "nbconvert_exporter": "python",
   "pygments_lexer": "ipython3",
   "version": "3.8.5"
  }
 },
 "nbformat": 4,
 "nbformat_minor": 4
}
