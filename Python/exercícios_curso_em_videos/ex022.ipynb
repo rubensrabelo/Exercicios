{
 "cells": [
  {
   "cell_type": "code",
   "execution_count": 14,
   "metadata": {},
   "outputs": [
    {
     "name": "stdout",
     "output_type": "stream",
     "text": [
      "Digite seu nome: Rubens Rabelo Soares\n",
      "Analisando seu nome...\n",
      "Seu nome é letras maiúsculas fica RUBENS RABELO SOARES.\n",
      "Seu nome é letras minúsculas fica rubens rabelo soares.\n",
      "Seu nome tem 18 letras.\n",
      "Seu primeiro nome é Rubens e tem 6 letras.\n"
     ]
    }
   ],
   "source": [
    "nome = str(input('Digite seu nome: ')).strip()\n",
    "print('Analisando seu nome...')\n",
    "print(f'Seu nome é letras maiúsculas fica {nome.upper()}.')\n",
    "print(f'Seu nome é letras minúsculas fica {nome.lower()}.')\n",
    "print('Seu nome tem {} letras.'.format(len(nome) - nome.count(' ')))\n",
    "print('Seu primeiro nome é {} e tem {} letras.'.format(nome[0:nome.find(' ')], len(nome[0:nome.find(' ')])))"
   ]
  },
  {
   "cell_type": "code",
   "execution_count": null,
   "metadata": {},
   "outputs": [],
   "source": []
  }
 ],
 "metadata": {
  "kernelspec": {
   "display_name": "Python 3",
   "language": "python",
   "name": "python3"
  },
  "language_info": {
   "codemirror_mode": {
    "name": "ipython",
    "version": 3
   },
   "file_extension": ".py",
   "mimetype": "text/x-python",
   "name": "python",
   "nbconvert_exporter": "python",
   "pygments_lexer": "ipython3",
   "version": "3.8.5"
  }
 },
 "nbformat": 4,
 "nbformat_minor": 4
}
