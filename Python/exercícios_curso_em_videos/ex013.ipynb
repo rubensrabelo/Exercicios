{
 "cells": [
  {
   "cell_type": "code",
   "execution_count": 1,
   "metadata": {},
   "outputs": [
    {
     "name": "stdout",
     "output_type": "stream",
     "text": [
      "Digite o salário do funcionário R$: 4319.43\n",
      "Um funcionário que ganhava R$ 4319.43, com 15% de aumento, passa a ganhar R$ 4967.34.\n"
     ]
    }
   ],
   "source": [
    "sal = float(input('Digite o salário do funcionário R$: '))\n",
    "nsal = sal + (sal * 0.15)\n",
    "print(f'Um funcionário que ganhava R$ {sal:.2f}, com 15% de aumento, passa a ganhar R$ {nsal:.2f}.')"
   ]
  }
 ],
 "metadata": {
  "kernelspec": {
   "display_name": "Python 3",
   "language": "python",
   "name": "python3"
  },
  "language_info": {
   "codemirror_mode": {
    "name": "ipython",
    "version": 3
   },
   "file_extension": ".py",
   "mimetype": "text/x-python",
   "name": "python",
   "nbconvert_exporter": "python",
   "pygments_lexer": "ipython3",
   "version": "3.8.5"
  }
 },
 "nbformat": 4,
 "nbformat_minor": 4
}
