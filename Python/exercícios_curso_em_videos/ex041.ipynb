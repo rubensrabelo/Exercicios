{
 "cells": [
  {
   "cell_type": "code",
   "execution_count": 9,
   "metadata": {},
   "outputs": [
    {
     "name": "stdout",
     "output_type": "stream",
     "text": [
      "Digite seu ano de nascimento: 2002\n",
      "\n",
      "O atleta tem 19 anos.\n",
      "Classificação: JÚNIOR.\n"
     ]
    }
   ],
   "source": [
    "import datetime\n",
    "\n",
    "nasc = int(input('Digite seu ano de nascimento: '))\n",
    "idade = datetime.date.today().year - nasc\n",
    "\n",
    "print(f'\\nO atleta tem {idade} anos.')\n",
    "if idade <= 9:\n",
    "    print('Classificação: MIRIM.')\n",
    "elif idade <= 14:\n",
    "    print('Classificação: INFANTIL.')\n",
    "elif idade <= 19:\n",
    "    print('Classificação: JÚNIOR.')\n",
    "elif idade <= 25:\n",
    "    print('Classificação: SÊNIOR.')\n",
    "else:\n",
    "    print('Classificação: MASTER.')"
   ]
  }
 ],
 "metadata": {
  "kernelspec": {
   "display_name": "Python 3",
   "language": "python",
   "name": "python3"
  },
  "language_info": {
   "codemirror_mode": {
    "name": "ipython",
    "version": 3
   },
   "file_extension": ".py",
   "mimetype": "text/x-python",
   "name": "python",
   "nbconvert_exporter": "python",
   "pygments_lexer": "ipython3",
   "version": "3.8.5"
  }
 },
 "nbformat": 4,
 "nbformat_minor": 4
}
