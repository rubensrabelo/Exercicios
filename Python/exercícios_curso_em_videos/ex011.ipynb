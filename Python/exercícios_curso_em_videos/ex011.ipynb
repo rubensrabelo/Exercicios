{
 "cells": [
  {
   "cell_type": "code",
   "execution_count": 1,
   "metadata": {},
   "outputs": [
    {
     "name": "stdout",
     "output_type": "stream",
     "text": [
      "Largura da parede: 2.5\n",
      "Altura da parede: 1.75\n",
      "Sua parede tem dimensão de 2.5x1.75 m e sua área é 4.375.\n",
      "Para pintar essa parede, você precisará de 2.1875 l de tinta.\n"
     ]
    }
   ],
   "source": [
    "lar = float(input('Largura da parede: '))\n",
    "alt = float(input('Altura da parede: '))\n",
    "area = lar * alt\n",
    "lit = area / 2\n",
    "print(f'Sua parede tem dimensão de {lar}x{alt} m e sua área é {area}.')\n",
    "print(f'Para pintar essa parede, você precisará de {lit} l de tinta.')"
   ]
  }
 ],
 "metadata": {
  "kernelspec": {
   "display_name": "Python 3",
   "language": "python",
   "name": "python3"
  },
  "language_info": {
   "codemirror_mode": {
    "name": "ipython",
    "version": 3
   },
   "file_extension": ".py",
   "mimetype": "text/x-python",
   "name": "python",
   "nbconvert_exporter": "python",
   "pygments_lexer": "ipython3",
   "version": "3.8.5"
  }
 },
 "nbformat": 4,
 "nbformat_minor": 4
}
