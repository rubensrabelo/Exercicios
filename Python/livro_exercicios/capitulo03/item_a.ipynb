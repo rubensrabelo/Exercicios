{
 "cells": [
  {
   "cell_type": "code",
   "execution_count": 9,
   "metadata": {},
   "outputs": [
    {
     "name": "stdout",
     "output_type": "stream",
     "text": [
      "=============CONVERSÃO DE TEMPERATURA=============\n",
      "\n",
      "Qual a temperatura em gau celsius? 25\n",
      "A temperatura de 25.00 °C é a mesma que 77.00 °F.\n"
     ]
    }
   ],
   "source": [
    "print('{:=^50}\\n'.format('CONVERSÃO DE TEMPERATURA'))\n",
    "celsius = float(input('Qual a temperatura em gau celsius? '))\n",
    "fahrenheit = (9 * celsius + 160)/5\n",
    "print(f'A temperatura de {celsius:.2f} °C é a mesma que {fahrenheit:.2f} °F.')"
   ]
  }
 ],
 "metadata": {
  "kernelspec": {
   "display_name": "Python 3",
   "language": "python",
   "name": "python3"
  },
  "language_info": {
   "codemirror_mode": {
    "name": "ipython",
    "version": 3
   },
   "file_extension": ".py",
   "mimetype": "text/x-python",
   "name": "python",
   "nbconvert_exporter": "python",
   "pygments_lexer": "ipython3",
   "version": "3.8.5"
  }
 },
 "nbformat": 4,
 "nbformat_minor": 4
}
