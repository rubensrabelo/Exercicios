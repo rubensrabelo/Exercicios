{
 "cells": [
  {
   "cell_type": "code",
   "execution_count": 2,
   "metadata": {},
   "outputs": [
    {
     "name": "stdout",
     "output_type": "stream",
     "text": [
      "============VOLUME============\n",
      "\n",
      "Digite o raio: 1\n",
      "Digite a altura: 1\n",
      "O valor do volume é 3.14.\n"
     ]
    }
   ],
   "source": [
    "print('{:=^30}\\n'.format('VOLUME'))\n",
    "raio = float(input('Digite o raio: '))\n",
    "altura = float(input('Digite a altura: '))\n",
    "volume = 3.14 * raio**2 * altura\n",
    "print(f'O valor do volume é {volume:.2f}.')"
   ]
  }
 ],
 "metadata": {
  "kernelspec": {
   "display_name": "Python 3",
   "language": "python",
   "name": "python3"
  },
  "language_info": {
   "codemirror_mode": {
    "name": "ipython",
    "version": 3
   },
   "file_extension": ".py",
   "mimetype": "text/x-python",
   "name": "python",
   "nbconvert_exporter": "python",
   "pygments_lexer": "ipython3",
   "version": "3.8.5"
  }
 },
 "nbformat": 4,
 "nbformat_minor": 4
}
