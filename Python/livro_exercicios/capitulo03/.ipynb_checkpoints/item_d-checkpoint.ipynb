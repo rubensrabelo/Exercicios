{
 "cells": [
  {
   "cell_type": "code",
   "execution_count": 3,
   "metadata": {},
   "outputs": [
    {
     "name": "stdout",
     "output_type": "stream",
     "text": [
      "Tempo gasto[h]: 1\n",
      "Velocidade média [km/h]: 1\n",
      "A velocidade média  foi de 1.0 km/h.\n",
      "O tempo gasto foi de 1.0 h.\n",
      "A distância pecorrida foi de 1.0 km.\n",
      "A quantidade de litro usados foi 0.08 l.\n"
     ]
    }
   ],
   "source": [
    "tempo = float(input('Tempo gasto[h]: '))\n",
    "vm = float(input('Velocidade média [km/h]: '))\n",
    "dist = tempo * vm\n",
    "litros = dist/12\n",
    "print(f'A velocidade média  foi de {vm} km/h.')\n",
    "print(f'O tempo gasto foi de {tempo} h.')\n",
    "print(f'A distância pecorrida foi de {dist} km.')\n",
    "print(f'A quantidade de litro usados foi {litros:.2f} l.')"
   ]
  }
 ],
 "metadata": {
  "kernelspec": {
   "display_name": "Python 3",
   "language": "python",
   "name": "python3"
  },
  "language_info": {
   "codemirror_mode": {
    "name": "ipython",
    "version": 3
   },
   "file_extension": ".py",
   "mimetype": "text/x-python",
   "name": "python",
   "nbconvert_exporter": "python",
   "pygments_lexer": "ipython3",
   "version": "3.8.5"
  }
 },
 "nbformat": 4,
 "nbformat_minor": 4
}
