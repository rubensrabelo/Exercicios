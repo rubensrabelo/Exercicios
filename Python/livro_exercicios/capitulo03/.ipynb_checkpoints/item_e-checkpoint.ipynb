{
 "cells": [
  {
   "cell_type": "code",
   "execution_count": 9,
   "metadata": {},
   "outputs": [
    {
     "name": "stdout",
     "output_type": "stream",
     "text": [
      "==========PRESTAÇÃO===========\n",
      "\n",
      "Digite o valor [R$]: 1000\n",
      "Digite a taxa [%]: 10\n",
      "Digite o tempo {dias}: 1\n",
      "A prestação é de R$1.100,00.\n"
     ]
    }
   ],
   "source": [
    "print('{:=^30}\\n'.format('PRESTAÇÃO'))\n",
    "valor = float(input('Digite o valor [R$]: '))\n",
    "taxa = float(input('Digite a taxa [%]: '))\n",
    "tempo = float(input('Digite o tempo {dias}: '))\n",
    "prest = valor + (valor * (taxa/100) * tempo)\n",
    "msg = f'{prest:_.2f}'\n",
    "msg = msg.replace('.', ',').replace('_', '.')        \n",
    "print(f'A prestação é de R${msg}.')"
   ]
  }
 ],
 "metadata": {
  "kernelspec": {
   "display_name": "Python 3",
   "language": "python",
   "name": "python3"
  },
  "language_info": {
   "codemirror_mode": {
    "name": "ipython",
    "version": 3
   },
   "file_extension": ".py",
   "mimetype": "text/x-python",
   "name": "python",
   "nbconvert_exporter": "python",
   "pygments_lexer": "ipython3",
   "version": "3.8.5"
  }
 },
 "nbformat": 4,
 "nbformat_minor": 4
}
