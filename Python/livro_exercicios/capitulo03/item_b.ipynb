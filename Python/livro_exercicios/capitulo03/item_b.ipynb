{
 "cells": [
  {
   "cell_type": "code",
   "execution_count": 2,
   "metadata": {},
   "outputs": [
    {
     "name": "stdout",
     "output_type": "stream",
     "text": [
      "=============CONVERSÃO DE TEMPERATURA=============\n",
      "\n",
      "Qual a temperatura em fahrenheit? 77\n",
      "A temperatura de 77.00 °F é a mesma que 25.00 °C.\n"
     ]
    }
   ],
   "source": [
    "print('{:=^50}\\n'.format('CONVERSÃO DE TEMPERATURA'))\n",
    "f = float(input('Qual a temperatura em fahrenheit? '))\n",
    "c = (f - 32) * (5/9)\n",
    "print(f'A temperatura de {f:.2f} °F é a mesma que {c:.2f} °C.')"
   ]
  }
 ],
 "metadata": {
  "kernelspec": {
   "display_name": "Python 3",
   "language": "python",
   "name": "python3"
  },
  "language_info": {
   "codemirror_mode": {
    "name": "ipython",
    "version": 3
   },
   "file_extension": ".py",
   "mimetype": "text/x-python",
   "name": "python",
   "nbconvert_exporter": "python",
   "pygments_lexer": "ipython3",
   "version": "3.8.5"
  }
 },
 "nbformat": 4,
 "nbformat_minor": 4
}
